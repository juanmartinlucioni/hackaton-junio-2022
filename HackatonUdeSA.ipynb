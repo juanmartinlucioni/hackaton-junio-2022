{
  "cells": [
    {
      "cell_type": "code",
      "execution_count": 57,
      "metadata": {
        "id": "AVn-bLbYupvW"
      },
      "outputs": [],
      "source": [
        "# Instalar las librerias requerias\n",
        "!pip3 install mglearn numpy scipy scikit-learn matplotlib pandas pillow graphviz --quiet"
      ]
    },
    {
      "cell_type": "code",
      "execution_count": 1,
      "metadata": {
        "id": "gl4H2XZPus8P"
      },
      "outputs": [],
      "source": [
        "import warnings\n",
        "import time\n",
        "\n",
        "import matplotlib.pyplot as plt\n",
        "import seaborn as sns\n",
        "import numpy as np\n",
        "import pandas as pd\n",
        "\n",
        "# modelos\n",
        "from sklearn.neighbors import KNeighborsClassifier\n",
        "from sklearn.tree import DecisionTreeClassifier\n",
        "from sklearn.ensemble import RandomForestClassifier\n",
        "\n",
        "# helpers\n",
        "from sklearn.preprocessing import StandardScaler\n",
        "from sklearn.preprocessing import OneHotEncoder\n",
        "from sklearn.preprocessing import LabelEncoder\n",
        "from sklearn.model_selection import train_test_split\n",
        "from sklearn.model_selection import cross_val_score\n",
        "from sklearn.decomposition import PCA\n",
        "\n",
        "# dataset de ejemplo\n",
        "from sklearn.datasets import make_blobs\n",
        "from sklearn.datasets import load_breast_cancer\n",
        "from sklearn.datasets import load_boston\n",
        "from sklearn.datasets import load_iris\n",
        "\n",
        "import graphviz\n",
        "\n",
        "# Metricas\n",
        "from sklearn.metrics import accuracy_score\n",
        "from sklearn.metrics import precision_score\n",
        "from sklearn.metrics import recall_score\n",
        "from sklearn.metrics import f1_score\n",
        "from sklearn.metrics import confusion_matrix\n",
        "from sklearn.metrics import classification_report\n",
        "\n",
        "\n",
        "# ROC\n",
        "from sklearn.metrics import roc_auc_score\n",
        "from sklearn.metrics import roc_curve\n",
        "from sklearn.metrics import RocCurveDisplay\n",
        "from sklearn.metrics import plot_confusion_matrix\n",
        "from sklearn.metrics import plot_roc_curve\n",
        "\n",
        "warnings.filterwarnings('ignore')\n",
        "%matplotlib inline"
      ]
    },
    {
      "cell_type": "markdown",
      "metadata": {
        "id": "mRwsDSszvO_t"
      },
      "source": [
        "# Importar los datos"
      ]
    },
    {
      "cell_type": "code",
      "execution_count": 3,
      "metadata": {
        "id": "-_oz6nQYBgCT"
      },
      "outputs": [],
      "source": [
        "#cat hackaton-udesa.csv"
      ]
    },
    {
      "cell_type": "code",
      "execution_count": 5,
      "metadata": {
        "_cell_guid": "b1076dfc-b9ad-4769-8c92-a6c4dae69d19",
        "_uuid": "8f2839f25d086af736a60e9eeb907d3b93b6e0e5",
        "execution": {
          "iopub.execute_input": "2022-05-15T18:41:57.004174Z",
          "iopub.status.busy": "2022-05-15T18:41:57.003448Z",
          "iopub.status.idle": "2022-05-15T18:41:57.543586Z",
          "shell.execute_reply": "2022-05-15T18:41:57.544155Z"
        },
        "id": "Jya73M9yuXyo",
        "papermill": {
          "duration": 0.594969,
          "end_time": "2022-05-15T18:41:57.544368",
          "exception": false,
          "start_time": "2022-05-15T18:41:56.949399",
          "status": "completed"
        },
        "tags": []
      },
      "outputs": [
        {
          "name": "stdout",
          "output_type": "stream",
          "text": [
            "\u001b[33mWARNING: You are using pip version 22.0.4; however, version 22.1.2 is available.\n",
            "You should consider upgrading via the '/Library/Frameworks/Python.framework/Versions/3.10/bin/python3.10 -m pip install --upgrade pip' command.\u001b[0m\u001b[33m\n",
            "\u001b[0m"
          ]
        },
        {
          "name": "stderr",
          "output_type": "stream",
          "text": [
            "Downloading...\n",
            "From: https://drive.google.com/uc?export=download&id=1jhGpjjNKPH9UXa7a_YGfVYQlAfWGiiwx\n",
            "To: /Users/matiasayerza/Documents/UdeSA/Sync/Analitica de Datos/Final/hackaton-udesa.csv\n",
            "100%|██████████| 8.68M/8.68M [00:00<00:00, 25.6MB/s]\n"
          ]
        },
        {
          "data": {
            "text/html": [
              "<div>\n",
              "<style scoped>\n",
              "    .dataframe tbody tr th:only-of-type {\n",
              "        vertical-align: middle;\n",
              "    }\n",
              "\n",
              "    .dataframe tbody tr th {\n",
              "        vertical-align: top;\n",
              "    }\n",
              "\n",
              "    .dataframe thead th {\n",
              "        text-align: right;\n",
              "    }\n",
              "</style>\n",
              "<table border=\"1\" class=\"dataframe\">\n",
              "  <thead>\n",
              "    <tr style=\"text-align: right;\">\n",
              "      <th></th>\n",
              "      <th>gender</th>\n",
              "      <th>customer_type</th>\n",
              "      <th>age</th>\n",
              "      <th>type_of_travel</th>\n",
              "      <th>class</th>\n",
              "      <th>flight_distance</th>\n",
              "      <th>inflight_wifi_service</th>\n",
              "      <th>ease_of_online_booking</th>\n",
              "      <th>gate_location</th>\n",
              "      <th>food_and_drink</th>\n",
              "      <th>online_boarding</th>\n",
              "      <th>seat_comfort</th>\n",
              "      <th>inflight_entertainment</th>\n",
              "      <th>on_board_service</th>\n",
              "      <th>checkin_service</th>\n",
              "      <th>cleanliness</th>\n",
              "      <th>departure_delay_in_minutes</th>\n",
              "      <th>arrival_delay_in_minutes</th>\n",
              "      <th>satisfaction</th>\n",
              "    </tr>\n",
              "  </thead>\n",
              "  <tbody>\n",
              "    <tr>\n",
              "      <th>0</th>\n",
              "      <td>Male</td>\n",
              "      <td>Loyal Customer</td>\n",
              "      <td>13.0</td>\n",
              "      <td>Personal Travel</td>\n",
              "      <td>Eco Plus</td>\n",
              "      <td>460</td>\n",
              "      <td>3</td>\n",
              "      <td>3</td>\n",
              "      <td>1</td>\n",
              "      <td>5</td>\n",
              "      <td>3</td>\n",
              "      <td>5</td>\n",
              "      <td>5</td>\n",
              "      <td>4</td>\n",
              "      <td>4</td>\n",
              "      <td>5</td>\n",
              "      <td>25</td>\n",
              "      <td>18.0</td>\n",
              "      <td>no</td>\n",
              "    </tr>\n",
              "    <tr>\n",
              "      <th>1</th>\n",
              "      <td>Male</td>\n",
              "      <td>disloyal Customer</td>\n",
              "      <td>25.0</td>\n",
              "      <td>Business travel</td>\n",
              "      <td>Business</td>\n",
              "      <td>235</td>\n",
              "      <td>3</td>\n",
              "      <td>3</td>\n",
              "      <td>3</td>\n",
              "      <td>1</td>\n",
              "      <td>3</td>\n",
              "      <td>1</td>\n",
              "      <td>1</td>\n",
              "      <td>1</td>\n",
              "      <td>1</td>\n",
              "      <td>1</td>\n",
              "      <td>1</td>\n",
              "      <td>6.0</td>\n",
              "      <td>no</td>\n",
              "    </tr>\n",
              "    <tr>\n",
              "      <th>2</th>\n",
              "      <td>Female</td>\n",
              "      <td>Loyal Customer</td>\n",
              "      <td>26.0</td>\n",
              "      <td>Business travel</td>\n",
              "      <td>Business</td>\n",
              "      <td>1142</td>\n",
              "      <td>2</td>\n",
              "      <td>2</td>\n",
              "      <td>2</td>\n",
              "      <td>5</td>\n",
              "      <td>5</td>\n",
              "      <td>5</td>\n",
              "      <td>5</td>\n",
              "      <td>4</td>\n",
              "      <td>4</td>\n",
              "      <td>5</td>\n",
              "      <td>0</td>\n",
              "      <td>0.0</td>\n",
              "      <td>yes</td>\n",
              "    </tr>\n",
              "    <tr>\n",
              "      <th>3</th>\n",
              "      <td>Female</td>\n",
              "      <td>Loyal Customer</td>\n",
              "      <td>25.0</td>\n",
              "      <td>Business travel</td>\n",
              "      <td>Business</td>\n",
              "      <td>562</td>\n",
              "      <td>2</td>\n",
              "      <td>5</td>\n",
              "      <td>5</td>\n",
              "      <td>2</td>\n",
              "      <td>2</td>\n",
              "      <td>2</td>\n",
              "      <td>2</td>\n",
              "      <td>2</td>\n",
              "      <td>1</td>\n",
              "      <td>2</td>\n",
              "      <td>11</td>\n",
              "      <td>9.0</td>\n",
              "      <td>no</td>\n",
              "    </tr>\n",
              "    <tr>\n",
              "      <th>4</th>\n",
              "      <td>Male</td>\n",
              "      <td>Loyal Customer</td>\n",
              "      <td>61.0</td>\n",
              "      <td>Business travel</td>\n",
              "      <td>Business</td>\n",
              "      <td>214</td>\n",
              "      <td>3</td>\n",
              "      <td>3</td>\n",
              "      <td>3</td>\n",
              "      <td>4</td>\n",
              "      <td>5</td>\n",
              "      <td>5</td>\n",
              "      <td>3</td>\n",
              "      <td>3</td>\n",
              "      <td>3</td>\n",
              "      <td>3</td>\n",
              "      <td>0</td>\n",
              "      <td>0.0</td>\n",
              "      <td>yes</td>\n",
              "    </tr>\n",
              "    <tr>\n",
              "      <th>...</th>\n",
              "      <td>...</td>\n",
              "      <td>...</td>\n",
              "      <td>...</td>\n",
              "      <td>...</td>\n",
              "      <td>...</td>\n",
              "      <td>...</td>\n",
              "      <td>...</td>\n",
              "      <td>...</td>\n",
              "      <td>...</td>\n",
              "      <td>...</td>\n",
              "      <td>...</td>\n",
              "      <td>...</td>\n",
              "      <td>...</td>\n",
              "      <td>...</td>\n",
              "      <td>...</td>\n",
              "      <td>...</td>\n",
              "      <td>...</td>\n",
              "      <td>...</td>\n",
              "      <td>...</td>\n",
              "    </tr>\n",
              "    <tr>\n",
              "      <th>103899</th>\n",
              "      <td>Female</td>\n",
              "      <td>disloyal Customer</td>\n",
              "      <td>23.0</td>\n",
              "      <td>Business travel</td>\n",
              "      <td>Eco</td>\n",
              "      <td>192</td>\n",
              "      <td>2</td>\n",
              "      <td>2</td>\n",
              "      <td>3</td>\n",
              "      <td>2</td>\n",
              "      <td>2</td>\n",
              "      <td>2</td>\n",
              "      <td>2</td>\n",
              "      <td>3</td>\n",
              "      <td>2</td>\n",
              "      <td>2</td>\n",
              "      <td>3</td>\n",
              "      <td>0.0</td>\n",
              "      <td>no</td>\n",
              "    </tr>\n",
              "    <tr>\n",
              "      <th>103900</th>\n",
              "      <td>Male</td>\n",
              "      <td>Loyal Customer</td>\n",
              "      <td>49.0</td>\n",
              "      <td>Business travel</td>\n",
              "      <td>Business</td>\n",
              "      <td>2347</td>\n",
              "      <td>4</td>\n",
              "      <td>4</td>\n",
              "      <td>4</td>\n",
              "      <td>2</td>\n",
              "      <td>4</td>\n",
              "      <td>5</td>\n",
              "      <td>5</td>\n",
              "      <td>5</td>\n",
              "      <td>5</td>\n",
              "      <td>4</td>\n",
              "      <td>0</td>\n",
              "      <td>0.0</td>\n",
              "      <td>yes</td>\n",
              "    </tr>\n",
              "    <tr>\n",
              "      <th>103901</th>\n",
              "      <td>Male</td>\n",
              "      <td>disloyal Customer</td>\n",
              "      <td>30.0</td>\n",
              "      <td>Business travel</td>\n",
              "      <td>Business</td>\n",
              "      <td>1995</td>\n",
              "      <td>1</td>\n",
              "      <td>1</td>\n",
              "      <td>3</td>\n",
              "      <td>4</td>\n",
              "      <td>1</td>\n",
              "      <td>5</td>\n",
              "      <td>4</td>\n",
              "      <td>3</td>\n",
              "      <td>5</td>\n",
              "      <td>4</td>\n",
              "      <td>7</td>\n",
              "      <td>14.0</td>\n",
              "      <td>no</td>\n",
              "    </tr>\n",
              "    <tr>\n",
              "      <th>103902</th>\n",
              "      <td>Female</td>\n",
              "      <td>disloyal Customer</td>\n",
              "      <td>22.0</td>\n",
              "      <td>Business travel</td>\n",
              "      <td>Eco</td>\n",
              "      <td>1000</td>\n",
              "      <td>1</td>\n",
              "      <td>1</td>\n",
              "      <td>5</td>\n",
              "      <td>1</td>\n",
              "      <td>1</td>\n",
              "      <td>1</td>\n",
              "      <td>1</td>\n",
              "      <td>4</td>\n",
              "      <td>5</td>\n",
              "      <td>1</td>\n",
              "      <td>0</td>\n",
              "      <td>0.0</td>\n",
              "      <td>no</td>\n",
              "    </tr>\n",
              "    <tr>\n",
              "      <th>103903</th>\n",
              "      <td>Male</td>\n",
              "      <td>Loyal Customer</td>\n",
              "      <td>27.0</td>\n",
              "      <td>Business travel</td>\n",
              "      <td>Business</td>\n",
              "      <td>1723</td>\n",
              "      <td>1</td>\n",
              "      <td>3</td>\n",
              "      <td>3</td>\n",
              "      <td>1</td>\n",
              "      <td>1</td>\n",
              "      <td>1</td>\n",
              "      <td>1</td>\n",
              "      <td>1</td>\n",
              "      <td>4</td>\n",
              "      <td>1</td>\n",
              "      <td>0</td>\n",
              "      <td>0.0</td>\n",
              "      <td>no</td>\n",
              "    </tr>\n",
              "  </tbody>\n",
              "</table>\n",
              "<p>103904 rows × 19 columns</p>\n",
              "</div>"
            ],
            "text/plain": [
              "        gender      customer_type   age   type_of_travel     class  \\\n",
              "0         Male     Loyal Customer  13.0  Personal Travel  Eco Plus   \n",
              "1         Male  disloyal Customer  25.0  Business travel  Business   \n",
              "2       Female     Loyal Customer  26.0  Business travel  Business   \n",
              "3       Female     Loyal Customer  25.0  Business travel  Business   \n",
              "4         Male     Loyal Customer  61.0  Business travel  Business   \n",
              "...        ...                ...   ...              ...       ...   \n",
              "103899  Female  disloyal Customer  23.0  Business travel       Eco   \n",
              "103900    Male     Loyal Customer  49.0  Business travel  Business   \n",
              "103901    Male  disloyal Customer  30.0  Business travel  Business   \n",
              "103902  Female  disloyal Customer  22.0  Business travel       Eco   \n",
              "103903    Male     Loyal Customer  27.0  Business travel  Business   \n",
              "\n",
              "        flight_distance  inflight_wifi_service  ease_of_online_booking  \\\n",
              "0                   460                      3                       3   \n",
              "1                   235                      3                       3   \n",
              "2                  1142                      2                       2   \n",
              "3                   562                      2                       5   \n",
              "4                   214                      3                       3   \n",
              "...                 ...                    ...                     ...   \n",
              "103899              192                      2                       2   \n",
              "103900             2347                      4                       4   \n",
              "103901             1995                      1                       1   \n",
              "103902             1000                      1                       1   \n",
              "103903             1723                      1                       3   \n",
              "\n",
              "        gate_location  food_and_drink  online_boarding  seat_comfort  \\\n",
              "0                   1               5                3             5   \n",
              "1                   3               1                3             1   \n",
              "2                   2               5                5             5   \n",
              "3                   5               2                2             2   \n",
              "4                   3               4                5             5   \n",
              "...               ...             ...              ...           ...   \n",
              "103899              3               2                2             2   \n",
              "103900              4               2                4             5   \n",
              "103901              3               4                1             5   \n",
              "103902              5               1                1             1   \n",
              "103903              3               1                1             1   \n",
              "\n",
              "        inflight_entertainment  on_board_service  checkin_service  \\\n",
              "0                            5                 4                4   \n",
              "1                            1                 1                1   \n",
              "2                            5                 4                4   \n",
              "3                            2                 2                1   \n",
              "4                            3                 3                3   \n",
              "...                        ...               ...              ...   \n",
              "103899                       2                 3                2   \n",
              "103900                       5                 5                5   \n",
              "103901                       4                 3                5   \n",
              "103902                       1                 4                5   \n",
              "103903                       1                 1                4   \n",
              "\n",
              "        cleanliness  departure_delay_in_minutes  arrival_delay_in_minutes  \\\n",
              "0                 5                          25                      18.0   \n",
              "1                 1                           1                       6.0   \n",
              "2                 5                           0                       0.0   \n",
              "3                 2                          11                       9.0   \n",
              "4                 3                           0                       0.0   \n",
              "...             ...                         ...                       ...   \n",
              "103899            2                           3                       0.0   \n",
              "103900            4                           0                       0.0   \n",
              "103901            4                           7                      14.0   \n",
              "103902            1                           0                       0.0   \n",
              "103903            1                           0                       0.0   \n",
              "\n",
              "       satisfaction  \n",
              "0                no  \n",
              "1                no  \n",
              "2               yes  \n",
              "3                no  \n",
              "4               yes  \n",
              "...             ...  \n",
              "103899           no  \n",
              "103900          yes  \n",
              "103901           no  \n",
              "103902           no  \n",
              "103903           no  \n",
              "\n",
              "[103904 rows x 19 columns]"
            ]
          },
          "execution_count": 5,
          "metadata": {},
          "output_type": "execute_result"
        }
      ],
      "source": [
        "# Importacion de datos a DF, usamos una adaptación de la función de descarga que vimos en el ejercicio de Superstore\n",
        "def obtener_datos(url):\n",
        "    !pip3 install gdown pyDrive --quiet\n",
        "    import gdown\n",
        "    gdown.download(url, quiet=False)\n",
        "    return\n",
        "\n",
        "# Clientes\n",
        "url = 'https://drive.google.com/uc?export=download&id=1jhGpjjNKPH9UXa7a_YGfVYQlAfWGiiwx'\n",
        "obtener_datos(url)\n",
        "df = pd.DataFrame(pd.read_csv('hackaton-udesa.csv', sep=';'))\n",
        "df"
      ]
    },
    {
      "cell_type": "code",
      "execution_count": 6,
      "metadata": {
        "colab": {
          "base_uri": "https://localhost:8080/"
        },
        "execution": {
          "iopub.execute_input": "2022-05-15T18:41:57.652366Z",
          "iopub.status.busy": "2022-05-15T18:41:57.651634Z",
          "iopub.status.idle": "2022-05-15T18:41:57.659544Z",
          "shell.execute_reply": "2022-05-15T18:41:57.658836Z"
        },
        "id": "Bi1zGpYEuXyr",
        "outputId": "477894b0-4343-4461-e788-eeb7d17cf6fb",
        "papermill": {
          "duration": 0.062647,
          "end_time": "2022-05-15T18:41:57.659665",
          "exception": false,
          "start_time": "2022-05-15T18:41:57.597018",
          "status": "completed"
        },
        "tags": []
      },
      "outputs": [
        {
          "name": "stdout",
          "output_type": "stream",
          "text": [
            "<class 'pandas.core.frame.DataFrame'>\n",
            "RangeIndex: 103904 entries, 0 to 103903\n",
            "Data columns (total 19 columns):\n",
            " #   Column                      Non-Null Count   Dtype  \n",
            "---  ------                      --------------   -----  \n",
            " 0   gender                      103904 non-null  object \n",
            " 1   customer_type               103904 non-null  object \n",
            " 2   age                         96904 non-null   float64\n",
            " 3   type_of_travel              103904 non-null  object \n",
            " 4   class                       103904 non-null  object \n",
            " 5   flight_distance             103904 non-null  int64  \n",
            " 6   inflight_wifi_service       103904 non-null  int64  \n",
            " 7   ease_of_online_booking      103904 non-null  int64  \n",
            " 8   gate_location               103904 non-null  int64  \n",
            " 9   food_and_drink              103904 non-null  int64  \n",
            " 10  online_boarding             103904 non-null  int64  \n",
            " 11  seat_comfort                103904 non-null  int64  \n",
            " 12  inflight_entertainment      103904 non-null  int64  \n",
            " 13  on_board_service            103904 non-null  int64  \n",
            " 14  checkin_service             103904 non-null  int64  \n",
            " 15  cleanliness                 103904 non-null  int64  \n",
            " 16  departure_delay_in_minutes  103904 non-null  int64  \n",
            " 17  arrival_delay_in_minutes    103594 non-null  float64\n",
            " 18  satisfaction                103904 non-null  object \n",
            "dtypes: float64(2), int64(12), object(5)\n",
            "memory usage: 15.1+ MB\n"
          ]
        }
      ],
      "source": [
        "# info\n",
        "df.info()"
      ]
    },
    {
      "cell_type": "code",
      "execution_count": 7,
      "metadata": {
        "_cell_guid": "79c7e3d0-c299-4dcb-8224-4455121ee9b0",
        "_uuid": "d629ff2d2480ee46fbb7e2d37f6b5fab8052498a",
        "colab": {
          "base_uri": "https://localhost:8080/",
          "height": 462
        },
        "execution": {
          "iopub.execute_input": "2022-05-15T18:41:57.788755Z",
          "iopub.status.busy": "2022-05-15T18:41:57.787725Z",
          "iopub.status.idle": "2022-05-15T18:41:57.805556Z",
          "shell.execute_reply": "2022-05-15T18:41:57.804884Z"
        },
        "id": "W-NSBhTKuXyv",
        "outputId": "ee4af537-b5d4-404c-e93c-6439b73d95bb",
        "papermill": {
          "duration": 0.093478,
          "end_time": "2022-05-15T18:41:57.805673",
          "exception": false,
          "start_time": "2022-05-15T18:41:57.712195",
          "status": "completed"
        },
        "tags": []
      },
      "outputs": [
        {
          "data": {
            "text/html": [
              "<div>\n",
              "<style scoped>\n",
              "    .dataframe tbody tr th:only-of-type {\n",
              "        vertical-align: middle;\n",
              "    }\n",
              "\n",
              "    .dataframe tbody tr th {\n",
              "        vertical-align: top;\n",
              "    }\n",
              "\n",
              "    .dataframe thead th {\n",
              "        text-align: right;\n",
              "    }\n",
              "</style>\n",
              "<table border=\"1\" class=\"dataframe\">\n",
              "  <thead>\n",
              "    <tr style=\"text-align: right;\">\n",
              "      <th></th>\n",
              "      <th>gender</th>\n",
              "      <th>customer_type</th>\n",
              "      <th>age</th>\n",
              "      <th>type_of_travel</th>\n",
              "      <th>class</th>\n",
              "      <th>flight_distance</th>\n",
              "      <th>inflight_wifi_service</th>\n",
              "      <th>ease_of_online_booking</th>\n",
              "      <th>gate_location</th>\n",
              "      <th>food_and_drink</th>\n",
              "      <th>online_boarding</th>\n",
              "      <th>seat_comfort</th>\n",
              "      <th>inflight_entertainment</th>\n",
              "      <th>on_board_service</th>\n",
              "      <th>checkin_service</th>\n",
              "      <th>cleanliness</th>\n",
              "      <th>departure_delay_in_minutes</th>\n",
              "      <th>arrival_delay_in_minutes</th>\n",
              "      <th>satisfaction</th>\n",
              "    </tr>\n",
              "  </thead>\n",
              "  <tbody>\n",
              "    <tr>\n",
              "      <th>0</th>\n",
              "      <td>Male</td>\n",
              "      <td>Loyal Customer</td>\n",
              "      <td>13.0</td>\n",
              "      <td>Personal Travel</td>\n",
              "      <td>Eco Plus</td>\n",
              "      <td>460</td>\n",
              "      <td>3</td>\n",
              "      <td>3</td>\n",
              "      <td>1</td>\n",
              "      <td>5</td>\n",
              "      <td>3</td>\n",
              "      <td>5</td>\n",
              "      <td>5</td>\n",
              "      <td>4</td>\n",
              "      <td>4</td>\n",
              "      <td>5</td>\n",
              "      <td>25</td>\n",
              "      <td>18.0</td>\n",
              "      <td>no</td>\n",
              "    </tr>\n",
              "    <tr>\n",
              "      <th>1</th>\n",
              "      <td>Male</td>\n",
              "      <td>disloyal Customer</td>\n",
              "      <td>25.0</td>\n",
              "      <td>Business travel</td>\n",
              "      <td>Business</td>\n",
              "      <td>235</td>\n",
              "      <td>3</td>\n",
              "      <td>3</td>\n",
              "      <td>3</td>\n",
              "      <td>1</td>\n",
              "      <td>3</td>\n",
              "      <td>1</td>\n",
              "      <td>1</td>\n",
              "      <td>1</td>\n",
              "      <td>1</td>\n",
              "      <td>1</td>\n",
              "      <td>1</td>\n",
              "      <td>6.0</td>\n",
              "      <td>no</td>\n",
              "    </tr>\n",
              "    <tr>\n",
              "      <th>2</th>\n",
              "      <td>Female</td>\n",
              "      <td>Loyal Customer</td>\n",
              "      <td>26.0</td>\n",
              "      <td>Business travel</td>\n",
              "      <td>Business</td>\n",
              "      <td>1142</td>\n",
              "      <td>2</td>\n",
              "      <td>2</td>\n",
              "      <td>2</td>\n",
              "      <td>5</td>\n",
              "      <td>5</td>\n",
              "      <td>5</td>\n",
              "      <td>5</td>\n",
              "      <td>4</td>\n",
              "      <td>4</td>\n",
              "      <td>5</td>\n",
              "      <td>0</td>\n",
              "      <td>0.0</td>\n",
              "      <td>yes</td>\n",
              "    </tr>\n",
              "    <tr>\n",
              "      <th>3</th>\n",
              "      <td>Female</td>\n",
              "      <td>Loyal Customer</td>\n",
              "      <td>25.0</td>\n",
              "      <td>Business travel</td>\n",
              "      <td>Business</td>\n",
              "      <td>562</td>\n",
              "      <td>2</td>\n",
              "      <td>5</td>\n",
              "      <td>5</td>\n",
              "      <td>2</td>\n",
              "      <td>2</td>\n",
              "      <td>2</td>\n",
              "      <td>2</td>\n",
              "      <td>2</td>\n",
              "      <td>1</td>\n",
              "      <td>2</td>\n",
              "      <td>11</td>\n",
              "      <td>9.0</td>\n",
              "      <td>no</td>\n",
              "    </tr>\n",
              "    <tr>\n",
              "      <th>4</th>\n",
              "      <td>Male</td>\n",
              "      <td>Loyal Customer</td>\n",
              "      <td>61.0</td>\n",
              "      <td>Business travel</td>\n",
              "      <td>Business</td>\n",
              "      <td>214</td>\n",
              "      <td>3</td>\n",
              "      <td>3</td>\n",
              "      <td>3</td>\n",
              "      <td>4</td>\n",
              "      <td>5</td>\n",
              "      <td>5</td>\n",
              "      <td>3</td>\n",
              "      <td>3</td>\n",
              "      <td>3</td>\n",
              "      <td>3</td>\n",
              "      <td>0</td>\n",
              "      <td>0.0</td>\n",
              "      <td>yes</td>\n",
              "    </tr>\n",
              "    <tr>\n",
              "      <th>5</th>\n",
              "      <td>Female</td>\n",
              "      <td>Loyal Customer</td>\n",
              "      <td>26.0</td>\n",
              "      <td>Personal Travel</td>\n",
              "      <td>Eco</td>\n",
              "      <td>1180</td>\n",
              "      <td>3</td>\n",
              "      <td>2</td>\n",
              "      <td>1</td>\n",
              "      <td>1</td>\n",
              "      <td>2</td>\n",
              "      <td>1</td>\n",
              "      <td>1</td>\n",
              "      <td>3</td>\n",
              "      <td>4</td>\n",
              "      <td>1</td>\n",
              "      <td>0</td>\n",
              "      <td>0.0</td>\n",
              "      <td>no</td>\n",
              "    </tr>\n",
              "    <tr>\n",
              "      <th>6</th>\n",
              "      <td>Male</td>\n",
              "      <td>Loyal Customer</td>\n",
              "      <td>47.0</td>\n",
              "      <td>Personal Travel</td>\n",
              "      <td>Eco</td>\n",
              "      <td>1276</td>\n",
              "      <td>2</td>\n",
              "      <td>2</td>\n",
              "      <td>3</td>\n",
              "      <td>2</td>\n",
              "      <td>2</td>\n",
              "      <td>2</td>\n",
              "      <td>2</td>\n",
              "      <td>3</td>\n",
              "      <td>3</td>\n",
              "      <td>2</td>\n",
              "      <td>9</td>\n",
              "      <td>23.0</td>\n",
              "      <td>no</td>\n",
              "    </tr>\n",
              "    <tr>\n",
              "      <th>7</th>\n",
              "      <td>Female</td>\n",
              "      <td>Loyal Customer</td>\n",
              "      <td>52.0</td>\n",
              "      <td>Business travel</td>\n",
              "      <td>Business</td>\n",
              "      <td>2035</td>\n",
              "      <td>4</td>\n",
              "      <td>4</td>\n",
              "      <td>4</td>\n",
              "      <td>5</td>\n",
              "      <td>5</td>\n",
              "      <td>5</td>\n",
              "      <td>5</td>\n",
              "      <td>5</td>\n",
              "      <td>4</td>\n",
              "      <td>4</td>\n",
              "      <td>4</td>\n",
              "      <td>0.0</td>\n",
              "      <td>yes</td>\n",
              "    </tr>\n",
              "    <tr>\n",
              "      <th>8</th>\n",
              "      <td>Female</td>\n",
              "      <td>Loyal Customer</td>\n",
              "      <td>41.0</td>\n",
              "      <td>Business travel</td>\n",
              "      <td>Business</td>\n",
              "      <td>853</td>\n",
              "      <td>1</td>\n",
              "      <td>2</td>\n",
              "      <td>2</td>\n",
              "      <td>4</td>\n",
              "      <td>3</td>\n",
              "      <td>3</td>\n",
              "      <td>1</td>\n",
              "      <td>1</td>\n",
              "      <td>4</td>\n",
              "      <td>2</td>\n",
              "      <td>0</td>\n",
              "      <td>0.0</td>\n",
              "      <td>no</td>\n",
              "    </tr>\n",
              "    <tr>\n",
              "      <th>9</th>\n",
              "      <td>Male</td>\n",
              "      <td>disloyal Customer</td>\n",
              "      <td>20.0</td>\n",
              "      <td>Business travel</td>\n",
              "      <td>Eco</td>\n",
              "      <td>1061</td>\n",
              "      <td>3</td>\n",
              "      <td>3</td>\n",
              "      <td>4</td>\n",
              "      <td>2</td>\n",
              "      <td>3</td>\n",
              "      <td>3</td>\n",
              "      <td>2</td>\n",
              "      <td>2</td>\n",
              "      <td>4</td>\n",
              "      <td>2</td>\n",
              "      <td>0</td>\n",
              "      <td>0.0</td>\n",
              "      <td>no</td>\n",
              "    </tr>\n",
              "  </tbody>\n",
              "</table>\n",
              "</div>"
            ],
            "text/plain": [
              "   gender      customer_type   age   type_of_travel     class  \\\n",
              "0    Male     Loyal Customer  13.0  Personal Travel  Eco Plus   \n",
              "1    Male  disloyal Customer  25.0  Business travel  Business   \n",
              "2  Female     Loyal Customer  26.0  Business travel  Business   \n",
              "3  Female     Loyal Customer  25.0  Business travel  Business   \n",
              "4    Male     Loyal Customer  61.0  Business travel  Business   \n",
              "5  Female     Loyal Customer  26.0  Personal Travel       Eco   \n",
              "6    Male     Loyal Customer  47.0  Personal Travel       Eco   \n",
              "7  Female     Loyal Customer  52.0  Business travel  Business   \n",
              "8  Female     Loyal Customer  41.0  Business travel  Business   \n",
              "9    Male  disloyal Customer  20.0  Business travel       Eco   \n",
              "\n",
              "   flight_distance  inflight_wifi_service  ease_of_online_booking  \\\n",
              "0              460                      3                       3   \n",
              "1              235                      3                       3   \n",
              "2             1142                      2                       2   \n",
              "3              562                      2                       5   \n",
              "4              214                      3                       3   \n",
              "5             1180                      3                       2   \n",
              "6             1276                      2                       2   \n",
              "7             2035                      4                       4   \n",
              "8              853                      1                       2   \n",
              "9             1061                      3                       3   \n",
              "\n",
              "   gate_location  food_and_drink  online_boarding  seat_comfort  \\\n",
              "0              1               5                3             5   \n",
              "1              3               1                3             1   \n",
              "2              2               5                5             5   \n",
              "3              5               2                2             2   \n",
              "4              3               4                5             5   \n",
              "5              1               1                2             1   \n",
              "6              3               2                2             2   \n",
              "7              4               5                5             5   \n",
              "8              2               4                3             3   \n",
              "9              4               2                3             3   \n",
              "\n",
              "   inflight_entertainment  on_board_service  checkin_service  cleanliness  \\\n",
              "0                       5                 4                4            5   \n",
              "1                       1                 1                1            1   \n",
              "2                       5                 4                4            5   \n",
              "3                       2                 2                1            2   \n",
              "4                       3                 3                3            3   \n",
              "5                       1                 3                4            1   \n",
              "6                       2                 3                3            2   \n",
              "7                       5                 5                4            4   \n",
              "8                       1                 1                4            2   \n",
              "9                       2                 2                4            2   \n",
              "\n",
              "   departure_delay_in_minutes  arrival_delay_in_minutes satisfaction  \n",
              "0                          25                      18.0           no  \n",
              "1                           1                       6.0           no  \n",
              "2                           0                       0.0          yes  \n",
              "3                          11                       9.0           no  \n",
              "4                           0                       0.0          yes  \n",
              "5                           0                       0.0           no  \n",
              "6                           9                      23.0           no  \n",
              "7                           4                       0.0          yes  \n",
              "8                           0                       0.0           no  \n",
              "9                           0                       0.0           no  "
            ]
          },
          "execution_count": 7,
          "metadata": {},
          "output_type": "execute_result"
        }
      ],
      "source": [
        "# obtener una muestra\n",
        "df.head(10)"
      ]
    },
    {
      "cell_type": "code",
      "execution_count": 62,
      "metadata": {
        "colab": {
          "base_uri": "https://localhost:8080/",
          "height": 364
        },
        "execution": {
          "iopub.execute_input": "2022-05-15T18:41:59.354781Z",
          "iopub.status.busy": "2022-05-15T18:41:59.354064Z",
          "iopub.status.idle": "2022-05-15T18:41:59.374401Z",
          "shell.execute_reply": "2022-05-15T18:41:59.375019Z"
        },
        "id": "42nLc8tTuXy4",
        "outputId": "5034b8b4-b44b-434e-f191-f1b1b9a4dc2a",
        "papermill": {
          "duration": 0.081694,
          "end_time": "2022-05-15T18:41:59.375181",
          "exception": false,
          "start_time": "2022-05-15T18:41:59.293487",
          "status": "completed"
        },
        "tags": []
      },
      "outputs": [
        {
          "data": {
            "text/html": [
              "\n",
              "  <div id=\"df-de7fe20e-972d-4c7e-8e00-e16bfda343db\">\n",
              "    <div class=\"colab-df-container\">\n",
              "      <div>\n",
              "<style scoped>\n",
              "    .dataframe tbody tr th:only-of-type {\n",
              "        vertical-align: middle;\n",
              "    }\n",
              "\n",
              "    .dataframe tbody tr th {\n",
              "        vertical-align: top;\n",
              "    }\n",
              "\n",
              "    .dataframe thead th {\n",
              "        text-align: right;\n",
              "    }\n",
              "</style>\n",
              "<table border=\"1\" class=\"dataframe\">\n",
              "  <thead>\n",
              "    <tr style=\"text-align: right;\">\n",
              "      <th></th>\n",
              "      <th>age</th>\n",
              "      <th>flight_distance</th>\n",
              "      <th>inflight_wifi_service</th>\n",
              "      <th>ease_of_online_booking</th>\n",
              "      <th>gate_location</th>\n",
              "      <th>food_and_drink</th>\n",
              "      <th>online_boarding</th>\n",
              "      <th>seat_comfort</th>\n",
              "      <th>inflight_entertainment</th>\n",
              "      <th>on_board_service</th>\n",
              "      <th>checkin_service</th>\n",
              "      <th>cleanliness</th>\n",
              "      <th>departure_delay_in_minutes</th>\n",
              "      <th>arrival_delay_in_minutes</th>\n",
              "    </tr>\n",
              "  </thead>\n",
              "  <tbody>\n",
              "    <tr>\n",
              "      <th>count</th>\n",
              "      <td>96904.000000</td>\n",
              "      <td>103904.000000</td>\n",
              "      <td>103904.000000</td>\n",
              "      <td>103904.000000</td>\n",
              "      <td>103904.000000</td>\n",
              "      <td>103904.000000</td>\n",
              "      <td>103904.000000</td>\n",
              "      <td>103904.000000</td>\n",
              "      <td>103904.000000</td>\n",
              "      <td>103904.000000</td>\n",
              "      <td>103904.000000</td>\n",
              "      <td>103904.000000</td>\n",
              "      <td>103904.000000</td>\n",
              "      <td>103594.000000</td>\n",
              "    </tr>\n",
              "    <tr>\n",
              "      <th>mean</th>\n",
              "      <td>39.654153</td>\n",
              "      <td>1189.448375</td>\n",
              "      <td>2.729683</td>\n",
              "      <td>2.756901</td>\n",
              "      <td>2.976883</td>\n",
              "      <td>3.202129</td>\n",
              "      <td>3.250375</td>\n",
              "      <td>3.439396</td>\n",
              "      <td>3.358158</td>\n",
              "      <td>3.382363</td>\n",
              "      <td>3.304290</td>\n",
              "      <td>3.286351</td>\n",
              "      <td>14.815618</td>\n",
              "      <td>15.178678</td>\n",
              "    </tr>\n",
              "    <tr>\n",
              "      <th>std</th>\n",
              "      <td>15.599097</td>\n",
              "      <td>997.147281</td>\n",
              "      <td>1.327829</td>\n",
              "      <td>1.398929</td>\n",
              "      <td>1.277621</td>\n",
              "      <td>1.329533</td>\n",
              "      <td>1.349509</td>\n",
              "      <td>1.319088</td>\n",
              "      <td>1.332991</td>\n",
              "      <td>1.288354</td>\n",
              "      <td>1.265396</td>\n",
              "      <td>1.312273</td>\n",
              "      <td>38.230901</td>\n",
              "      <td>38.698682</td>\n",
              "    </tr>\n",
              "    <tr>\n",
              "      <th>min</th>\n",
              "      <td>7.000000</td>\n",
              "      <td>31.000000</td>\n",
              "      <td>0.000000</td>\n",
              "      <td>0.000000</td>\n",
              "      <td>0.000000</td>\n",
              "      <td>0.000000</td>\n",
              "      <td>0.000000</td>\n",
              "      <td>0.000000</td>\n",
              "      <td>0.000000</td>\n",
              "      <td>0.000000</td>\n",
              "      <td>0.000000</td>\n",
              "      <td>0.000000</td>\n",
              "      <td>0.000000</td>\n",
              "      <td>0.000000</td>\n",
              "    </tr>\n",
              "    <tr>\n",
              "      <th>25%</th>\n",
              "      <td>26.000000</td>\n",
              "      <td>414.000000</td>\n",
              "      <td>2.000000</td>\n",
              "      <td>2.000000</td>\n",
              "      <td>2.000000</td>\n",
              "      <td>2.000000</td>\n",
              "      <td>2.000000</td>\n",
              "      <td>2.000000</td>\n",
              "      <td>2.000000</td>\n",
              "      <td>2.000000</td>\n",
              "      <td>3.000000</td>\n",
              "      <td>2.000000</td>\n",
              "      <td>0.000000</td>\n",
              "      <td>0.000000</td>\n",
              "    </tr>\n",
              "    <tr>\n",
              "      <th>50%</th>\n",
              "      <td>41.000000</td>\n",
              "      <td>843.000000</td>\n",
              "      <td>3.000000</td>\n",
              "      <td>3.000000</td>\n",
              "      <td>3.000000</td>\n",
              "      <td>3.000000</td>\n",
              "      <td>3.000000</td>\n",
              "      <td>4.000000</td>\n",
              "      <td>4.000000</td>\n",
              "      <td>4.000000</td>\n",
              "      <td>3.000000</td>\n",
              "      <td>3.000000</td>\n",
              "      <td>0.000000</td>\n",
              "      <td>0.000000</td>\n",
              "    </tr>\n",
              "    <tr>\n",
              "      <th>75%</th>\n",
              "      <td>52.000000</td>\n",
              "      <td>1743.000000</td>\n",
              "      <td>4.000000</td>\n",
              "      <td>4.000000</td>\n",
              "      <td>4.000000</td>\n",
              "      <td>4.000000</td>\n",
              "      <td>4.000000</td>\n",
              "      <td>5.000000</td>\n",
              "      <td>4.000000</td>\n",
              "      <td>4.000000</td>\n",
              "      <td>4.000000</td>\n",
              "      <td>4.000000</td>\n",
              "      <td>12.000000</td>\n",
              "      <td>13.000000</td>\n",
              "    </tr>\n",
              "    <tr>\n",
              "      <th>max</th>\n",
              "      <td>85.000000</td>\n",
              "      <td>4983.000000</td>\n",
              "      <td>5.000000</td>\n",
              "      <td>5.000000</td>\n",
              "      <td>5.000000</td>\n",
              "      <td>5.000000</td>\n",
              "      <td>5.000000</td>\n",
              "      <td>5.000000</td>\n",
              "      <td>5.000000</td>\n",
              "      <td>5.000000</td>\n",
              "      <td>5.000000</td>\n",
              "      <td>5.000000</td>\n",
              "      <td>1592.000000</td>\n",
              "      <td>1584.000000</td>\n",
              "    </tr>\n",
              "  </tbody>\n",
              "</table>\n",
              "</div>\n",
              "      <button class=\"colab-df-convert\" onclick=\"convertToInteractive('df-de7fe20e-972d-4c7e-8e00-e16bfda343db')\"\n",
              "              title=\"Convert this dataframe to an interactive table.\"\n",
              "              style=\"display:none;\">\n",
              "        \n",
              "  <svg xmlns=\"http://www.w3.org/2000/svg\" height=\"24px\"viewBox=\"0 0 24 24\"\n",
              "       width=\"24px\">\n",
              "    <path d=\"M0 0h24v24H0V0z\" fill=\"none\"/>\n",
              "    <path d=\"M18.56 5.44l.94 2.06.94-2.06 2.06-.94-2.06-.94-.94-2.06-.94 2.06-2.06.94zm-11 1L8.5 8.5l.94-2.06 2.06-.94-2.06-.94L8.5 2.5l-.94 2.06-2.06.94zm10 10l.94 2.06.94-2.06 2.06-.94-2.06-.94-.94-2.06-.94 2.06-2.06.94z\"/><path d=\"M17.41 7.96l-1.37-1.37c-.4-.4-.92-.59-1.43-.59-.52 0-1.04.2-1.43.59L10.3 9.45l-7.72 7.72c-.78.78-.78 2.05 0 2.83L4 21.41c.39.39.9.59 1.41.59.51 0 1.02-.2 1.41-.59l7.78-7.78 2.81-2.81c.8-.78.8-2.07 0-2.86zM5.41 20L4 18.59l7.72-7.72 1.47 1.35L5.41 20z\"/>\n",
              "  </svg>\n",
              "      </button>\n",
              "      \n",
              "  <style>\n",
              "    .colab-df-container {\n",
              "      display:flex;\n",
              "      flex-wrap:wrap;\n",
              "      gap: 12px;\n",
              "    }\n",
              "\n",
              "    .colab-df-convert {\n",
              "      background-color: #E8F0FE;\n",
              "      border: none;\n",
              "      border-radius: 50%;\n",
              "      cursor: pointer;\n",
              "      display: none;\n",
              "      fill: #1967D2;\n",
              "      height: 32px;\n",
              "      padding: 0 0 0 0;\n",
              "      width: 32px;\n",
              "    }\n",
              "\n",
              "    .colab-df-convert:hover {\n",
              "      background-color: #E2EBFA;\n",
              "      box-shadow: 0px 1px 2px rgba(60, 64, 67, 0.3), 0px 1px 3px 1px rgba(60, 64, 67, 0.15);\n",
              "      fill: #174EA6;\n",
              "    }\n",
              "\n",
              "    [theme=dark] .colab-df-convert {\n",
              "      background-color: #3B4455;\n",
              "      fill: #D2E3FC;\n",
              "    }\n",
              "\n",
              "    [theme=dark] .colab-df-convert:hover {\n",
              "      background-color: #434B5C;\n",
              "      box-shadow: 0px 1px 3px 1px rgba(0, 0, 0, 0.15);\n",
              "      filter: drop-shadow(0px 1px 2px rgba(0, 0, 0, 0.3));\n",
              "      fill: #FFFFFF;\n",
              "    }\n",
              "  </style>\n",
              "\n",
              "      <script>\n",
              "        const buttonEl =\n",
              "          document.querySelector('#df-de7fe20e-972d-4c7e-8e00-e16bfda343db button.colab-df-convert');\n",
              "        buttonEl.style.display =\n",
              "          google.colab.kernel.accessAllowed ? 'block' : 'none';\n",
              "\n",
              "        async function convertToInteractive(key) {\n",
              "          const element = document.querySelector('#df-de7fe20e-972d-4c7e-8e00-e16bfda343db');\n",
              "          const dataTable =\n",
              "            await google.colab.kernel.invokeFunction('convertToInteractive',\n",
              "                                                     [key], {});\n",
              "          if (!dataTable) return;\n",
              "\n",
              "          const docLinkHtml = 'Like what you see? Visit the ' +\n",
              "            '<a target=\"_blank\" href=https://colab.research.google.com/notebooks/data_table.ipynb>data table notebook</a>'\n",
              "            + ' to learn more about interactive tables.';\n",
              "          element.innerHTML = '';\n",
              "          dataTable['output_type'] = 'display_data';\n",
              "          await google.colab.output.renderOutput(dataTable, element);\n",
              "          const docLink = document.createElement('div');\n",
              "          docLink.innerHTML = docLinkHtml;\n",
              "          element.appendChild(docLink);\n",
              "        }\n",
              "      </script>\n",
              "    </div>\n",
              "  </div>\n",
              "  "
            ],
            "text/plain": [
              "                age  flight_distance  inflight_wifi_service  \\\n",
              "count  96904.000000    103904.000000          103904.000000   \n",
              "mean      39.654153      1189.448375               2.729683   \n",
              "std       15.599097       997.147281               1.327829   \n",
              "min        7.000000        31.000000               0.000000   \n",
              "25%       26.000000       414.000000               2.000000   \n",
              "50%       41.000000       843.000000               3.000000   \n",
              "75%       52.000000      1743.000000               4.000000   \n",
              "max       85.000000      4983.000000               5.000000   \n",
              "\n",
              "       ease_of_online_booking  gate_location  food_and_drink  online_boarding  \\\n",
              "count           103904.000000  103904.000000   103904.000000    103904.000000   \n",
              "mean                 2.756901       2.976883        3.202129         3.250375   \n",
              "std                  1.398929       1.277621        1.329533         1.349509   \n",
              "min                  0.000000       0.000000        0.000000         0.000000   \n",
              "25%                  2.000000       2.000000        2.000000         2.000000   \n",
              "50%                  3.000000       3.000000        3.000000         3.000000   \n",
              "75%                  4.000000       4.000000        4.000000         4.000000   \n",
              "max                  5.000000       5.000000        5.000000         5.000000   \n",
              "\n",
              "        seat_comfort  inflight_entertainment  on_board_service  \\\n",
              "count  103904.000000           103904.000000     103904.000000   \n",
              "mean        3.439396                3.358158          3.382363   \n",
              "std         1.319088                1.332991          1.288354   \n",
              "min         0.000000                0.000000          0.000000   \n",
              "25%         2.000000                2.000000          2.000000   \n",
              "50%         4.000000                4.000000          4.000000   \n",
              "75%         5.000000                4.000000          4.000000   \n",
              "max         5.000000                5.000000          5.000000   \n",
              "\n",
              "       checkin_service    cleanliness  departure_delay_in_minutes  \\\n",
              "count    103904.000000  103904.000000               103904.000000   \n",
              "mean          3.304290       3.286351                   14.815618   \n",
              "std           1.265396       1.312273                   38.230901   \n",
              "min           0.000000       0.000000                    0.000000   \n",
              "25%           3.000000       2.000000                    0.000000   \n",
              "50%           3.000000       3.000000                    0.000000   \n",
              "75%           4.000000       4.000000                   12.000000   \n",
              "max           5.000000       5.000000                 1592.000000   \n",
              "\n",
              "       arrival_delay_in_minutes  \n",
              "count             103594.000000  \n",
              "mean                  15.178678  \n",
              "std                   38.698682  \n",
              "min                    0.000000  \n",
              "25%                    0.000000  \n",
              "50%                    0.000000  \n",
              "75%                   13.000000  \n",
              "max                 1584.000000  "
            ]
          },
          "execution_count": 62,
          "metadata": {},
          "output_type": "execute_result"
        }
      ],
      "source": [
        "df.describe()"
      ]
    },
    {
      "cell_type": "markdown",
      "metadata": {
        "id": "ofn8EfVc_udw"
      },
      "source": [
        "# ¿Hay datos faltantes?\n",
        "\n",
        "Opciones:\n",
        "* Los completamos con alguna técnica si es que es necesario\n",
        "* Los borramos (evaluar el impacto)"
      ]
    },
    {
      "cell_type": "code",
      "execution_count": 8,
      "metadata": {
        "colab": {
          "base_uri": "https://localhost:8080/"
        },
        "execution": {
          "iopub.execute_input": "2022-05-15T18:42:00.052598Z",
          "iopub.status.busy": "2022-05-15T18:42:00.051169Z",
          "iopub.status.idle": "2022-05-15T18:42:00.220789Z",
          "shell.execute_reply": "2022-05-15T18:42:00.220236Z"
        },
        "id": "Tri2nAD2uXy6",
        "outputId": "580979eb-2e30-4abf-fde4-a327b7eb5941",
        "papermill": {
          "duration": 0.235766,
          "end_time": "2022-05-15T18:42:00.220922",
          "exception": false,
          "start_time": "2022-05-15T18:41:59.985156",
          "status": "completed"
        },
        "tags": []
      },
      "outputs": [
        {
          "data": {
            "text/plain": [
              "gender                           0\n",
              "customer_type                    0\n",
              "age                           7000\n",
              "type_of_travel                   0\n",
              "class                            0\n",
              "flight_distance                  0\n",
              "inflight_wifi_service            0\n",
              "ease_of_online_booking           0\n",
              "gate_location                    0\n",
              "food_and_drink                   0\n",
              "online_boarding                  0\n",
              "seat_comfort                     0\n",
              "inflight_entertainment           0\n",
              "on_board_service                 0\n",
              "checkin_service                  0\n",
              "cleanliness                      0\n",
              "departure_delay_in_minutes       0\n",
              "arrival_delay_in_minutes       310\n",
              "satisfaction                     0\n",
              "dtype: int64"
            ]
          },
          "execution_count": 8,
          "metadata": {},
          "output_type": "execute_result"
        }
      ],
      "source": [
        "df.isnull().sum()"
      ]
    },
    {
      "cell_type": "code",
      "execution_count": 9,
      "metadata": {
        "id": "AtBvoBWjD-8v"
      },
      "outputs": [],
      "source": [
        "# Completamos la columna \"arrival_delay_in_minutes\" con la mediana (0), ya que creemos que es el valor más significativo.\n",
        "medianaArrivalDelay = df['arrival_delay_in_minutes'].median()"
      ]
    },
    {
      "cell_type": "code",
      "execution_count": 10,
      "metadata": {
        "id": "IoQXSjoEEWZd"
      },
      "outputs": [],
      "source": [
        "df['arrival_delay_in_minutes'].fillna(value=medianaArrivalDelay, inplace=True)"
      ]
    },
    {
      "cell_type": "code",
      "execution_count": 11,
      "metadata": {
        "id": "IfIHP8C3BAwg"
      },
      "outputs": [],
      "source": [
        "#Usamos la columna 'seat_comfort' y 'online_boarding' ya que son las columnas que más se relacionan a la edad.\n",
        "medianas = df.groupby(['seat_comfort', 'online_boarding'])['age'].transform(lambda x: x.median())\n",
        "df.loc[df['age'].isna(),'age'] = medianas"
      ]
    },
    {
      "cell_type": "code",
      "execution_count": 12,
      "metadata": {
        "colab": {
          "base_uri": "https://localhost:8080/"
        },
        "id": "1C8zkvw6KCJh",
        "outputId": "309f2779-49b1-4f35-c626-77af8a4bf20a"
      },
      "outputs": [
        {
          "data": {
            "text/plain": [
              "gender                        0\n",
              "customer_type                 0\n",
              "age                           0\n",
              "type_of_travel                0\n",
              "class                         0\n",
              "flight_distance               0\n",
              "inflight_wifi_service         0\n",
              "ease_of_online_booking        0\n",
              "gate_location                 0\n",
              "food_and_drink                0\n",
              "online_boarding               0\n",
              "seat_comfort                  0\n",
              "inflight_entertainment        0\n",
              "on_board_service              0\n",
              "checkin_service               0\n",
              "cleanliness                   0\n",
              "departure_delay_in_minutes    0\n",
              "arrival_delay_in_minutes      0\n",
              "satisfaction                  0\n",
              "dtype: int64"
            ]
          },
          "execution_count": 12,
          "metadata": {},
          "output_type": "execute_result"
        }
      ],
      "source": [
        "df.isnull().sum()"
      ]
    },
    {
      "cell_type": "markdown",
      "metadata": {
        "id": "zNgLrVv9uXy-",
        "papermill": {
          "duration": 0.058371,
          "end_time": "2022-05-15T18:42:01.209734",
          "exception": false,
          "start_time": "2022-05-15T18:42:01.151363",
          "status": "completed"
        },
        "tags": []
      },
      "source": [
        "# Exploratory Data Analysis (EDA)\n",
        "\n",
        "Analisis rapido...\n",
        "\n",
        "* Visualizaciones varias\n",
        "* Correlación entre variables\n",
        "* Outliers\n",
        "* ..."
      ]
    },
    {
      "cell_type": "code",
      "execution_count": 13,
      "metadata": {
        "colab": {
          "base_uri": "https://localhost:8080/",
          "height": 302
        },
        "id": "h5PtLG8rMBr_",
        "outputId": "7bb18724-ebc7-4811-8b8c-239f0aa851f8"
      },
      "outputs": [
        {
          "data": {
            "text/plain": [
              "<AxesSubplot:xlabel='satisfaction', ylabel='flight_distance'>"
            ]
          },
          "execution_count": 13,
          "metadata": {},
          "output_type": "execute_result"
        },
        {
          "data": {
            "image/png": "[encoded data removed]",
            "text/plain": [
              "<Figure size 432x288 with 1 Axes>"
            ]
          },
          "metadata": {
            "needs_background": "light"
          },
          "output_type": "display_data"
        }
      ],
      "source": [
        "boxplot = sns.boxplot(y=\"flight_distance\", x=\"satisfaction\", data=df)\n",
        "boxplot"
      ]
    },
    {
      "cell_type": "code",
      "execution_count": 14,
      "metadata": {
        "colab": {
          "base_uri": "https://localhost:8080/",
          "height": 302
        },
        "id": "ztImJObKPDPt",
        "outputId": "0cfc87fd-9226-4470-a1c7-14711210cb69"
      },
      "outputs": [
        {
          "data": {
            "text/plain": [
              "<AxesSubplot:xlabel='satisfaction', ylabel='age'>"
            ]
          },
          "execution_count": 14,
          "metadata": {},
          "output_type": "execute_result"
        },
        {
          "data": {
            "image/png": "[encoded data removed]",
            "text/plain": [
              "<Figure size 432x288 with 1 Axes>"
            ]
          },
          "metadata": {
            "needs_background": "light"
          },
          "output_type": "display_data"
        }
      ],
      "source": [
        "boxplot = sns.boxplot(y=\"age\", x=\"satisfaction\", data=df)\n",
        "boxplot"
      ]
    },
    {
      "cell_type": "code",
      "execution_count": 15,
      "metadata": {
        "colab": {
          "base_uri": "https://localhost:8080/",
          "height": 346
        },
        "id": "ZOrS79l8Pcaz",
        "outputId": "7b723d6a-3de5-458e-e835-8965246b5c8a"
      },
      "outputs": [
        {
          "data": {
            "text/plain": [
              "<AxesSubplot:xlabel='departure_delay_in_minutes', ylabel='flight_distance'>"
            ]
          },
          "execution_count": 15,
          "metadata": {},
          "output_type": "execute_result"
        },
        {
          "data": {
            "image/png": "[encoded data removed]",
            "text/plain": [
              "<Figure size 432x288 with 1 Axes>"
            ]
          },
          "metadata": {
            "needs_background": "light"
          },
          "output_type": "display_data"
        }
      ],
      "source": [
        "sns.barplot(data=df, x='departure_delay_in_minutes', y='flight_distance')\n"
      ]
    },
    {
      "cell_type": "code",
      "execution_count": 16,
      "metadata": {
        "colab": {
          "base_uri": "https://localhost:8080/",
          "height": 284
        },
        "id": "KHxHT_OWOUoU",
        "outputId": "e7d5e68a-0cd0-4d09-93eb-70cdf5ffbc86"
      },
      "outputs": [
        {
          "data": {
            "image/png": "[encoded data removed]",
            "text/plain": [
              "<Figure size 432x288 with 1 Axes>"
            ]
          },
          "metadata": {
            "needs_background": "light"
          },
          "output_type": "display_data"
        }
      ],
      "source": [
        "fig1, ax1 = plt.subplots()\n",
        "ax1.set_title('arrival_delay_in_minutes')\n",
        "ax1.boxplot(df['arrival_delay_in_minutes'])\n",
        "plt.show()"
      ]
    },
    {
      "cell_type": "code",
      "execution_count": 17,
      "metadata": {
        "colab": {
          "base_uri": "https://localhost:8080/",
          "height": 284
        },
        "id": "OsfSGdsPOW4w",
        "outputId": "429b4bcd-aafe-465e-fbbb-c4a093c340b0"
      },
      "outputs": [
        {
          "data": {
            "image/png": "[encoded data removed]",
            "text/plain": [
              "<Figure size 432x288 with 1 Axes>"
            ]
          },
          "metadata": {
            "needs_background": "light"
          },
          "output_type": "display_data"
        }
      ],
      "source": [
        "fig1, ax1 = plt.subplots()\n",
        "ax1.set_title('departure_delay_in_minutes')\n",
        "ax1.boxplot(df['departure_delay_in_minutes'])\n",
        "plt.show()"
      ]
    },
    {
      "cell_type": "code",
      "execution_count": 18,
      "metadata": {
        "colab": {
          "base_uri": "https://localhost:8080/"
        },
        "id": "7zwroEOIObZt",
        "outputId": "ac2fd916-b451-4e13-cc75-b338dc7cf96c"
      },
      "outputs": [
        {
          "name": "stdout",
          "output_type": "stream",
          "text": [
            "6.733882295382029\n",
            "6.605192370082042\n"
          ]
        }
      ],
      "source": [
        "from scipy.stats import skew\n",
        "d = skew(df['departure_delay_in_minutes'])\n",
        "print(d)\n",
        "a = skew(df['arrival_delay_in_minutes'])\n",
        "print(a)"
      ]
    },
    {
      "cell_type": "code",
      "execution_count": 19,
      "metadata": {
        "colab": {
          "base_uri": "https://localhost:8080/",
          "height": 285
        },
        "id": "FDqBdOG-R5AL",
        "outputId": "0afa282a-b558-4283-8f65-9bd31b19efa7"
      },
      "outputs": [
        {
          "data": {
            "text/plain": [
              "<AxesSubplot:ylabel='Density'>"
            ]
          },
          "execution_count": 19,
          "metadata": {},
          "output_type": "execute_result"
        },
        {
          "data": {
            "image/png": "[encoded data removed]",
            "text/plain": [
              "<Figure size 432x288 with 1 Axes>"
            ]
          },
          "metadata": {
            "needs_background": "light"
          },
          "output_type": "display_data"
        }
      ],
      "source": [
        "density = df[\"flight_distance\"].plot.density()\n",
        "density"
      ]
    },
    {
      "cell_type": "code",
      "execution_count": 20,
      "metadata": {
        "colab": {
          "base_uri": "https://localhost:8080/",
          "height": 551
        },
        "id": "PDCmfqcKRQsL",
        "outputId": "d1e0e7db-424d-42fa-fed7-1eed6908e056"
      },
      "outputs": [
        {
          "data": {
            "image/png": "[encoded data removed]",
            "text/plain": [
              "<Figure size 432x288 with 1 Axes>"
            ]
          },
          "metadata": {
            "needs_background": "light"
          },
          "output_type": "display_data"
        },
        {
          "data": {
            "image/png": "[encoded data removed]",
            "text/plain": [
              "<Figure size 432x288 with 1 Axes>"
            ]
          },
          "metadata": {
            "needs_background": "light"
          },
          "output_type": "display_data"
        }
      ],
      "source": [
        "#Outliers\n",
        "from scipy import stats  \n",
        "# outliers\n",
        "num_df = df.select_dtypes(include=[\"number\"])\n",
        "cat_df = df.select_dtypes(exclude=[\"number\"])\n",
        "#\n",
        "idx = np.all(stats.zscore(num_df) < 3, axis=1)\n",
        "#\n",
        "dfc = pd.concat([num_df.loc[idx], cat_df.loc[idx]], axis=1)\n",
        "#\n",
        "Q1 = num_df.quantile(0.02)\n",
        "Q3 = num_df.quantile(0.98)\n",
        "IQR = Q3 - Q1\n",
        "idx = ~((num_df < (Q1 - 1.5 * IQR)) | (num_df > (Q3 + 1.5 * IQR))).any(axis=1)\n",
        "dfc = pd.concat([num_df.loc[idx], cat_df.loc[idx]], axis=1)\n",
        "fig1, ax1= plt.subplots()\n",
        "ax1.set_title('arrival_delay_in_minutes no outliers')\n",
        "ax1.boxplot(dfc['arrival_delay_in_minutes'])\n",
        "plt.show()\n",
        "fig1, ax1 = plt.subplots()\n",
        "ax1.set_title('arrival_delay_in_minutes con outliers')\n",
        "ax1.boxplot(df['arrival_delay_in_minutes'])\n",
        "plt.show()"
      ]
    },
    {
      "cell_type": "markdown",
      "metadata": {
        "id": "sDhgh950uXzF",
        "papermill": {
          "duration": 0.076734,
          "end_time": "2022-05-15T18:42:27.116481",
          "exception": false,
          "start_time": "2022-05-15T18:42:27.039747",
          "status": "completed"
        },
        "tags": []
      },
      "source": [
        "## Preprocesamiento: Tratamiento de variables categóricas\n",
        "Label Encoding"
      ]
    },
    {
      "cell_type": "code",
      "execution_count": 21,
      "metadata": {
        "colab": {
          "base_uri": "https://localhost:8080/",
          "height": 488
        },
        "id": "mXdPKFYrGa_c",
        "outputId": "58a552fc-9e88-492b-8177-69ac46edcba3"
      },
      "outputs": [
        {
          "data": {
            "text/html": [
              "<div>\n",
              "<style scoped>\n",
              "    .dataframe tbody tr th:only-of-type {\n",
              "        vertical-align: middle;\n",
              "    }\n",
              "\n",
              "    .dataframe tbody tr th {\n",
              "        vertical-align: top;\n",
              "    }\n",
              "\n",
              "    .dataframe thead th {\n",
              "        text-align: right;\n",
              "    }\n",
              "</style>\n",
              "<table border=\"1\" class=\"dataframe\">\n",
              "  <thead>\n",
              "    <tr style=\"text-align: right;\">\n",
              "      <th></th>\n",
              "      <th>gender</th>\n",
              "      <th>customer_type</th>\n",
              "      <th>age</th>\n",
              "      <th>type_of_travel</th>\n",
              "      <th>class</th>\n",
              "      <th>flight_distance</th>\n",
              "      <th>inflight_wifi_service</th>\n",
              "      <th>ease_of_online_booking</th>\n",
              "      <th>gate_location</th>\n",
              "      <th>food_and_drink</th>\n",
              "      <th>online_boarding</th>\n",
              "      <th>seat_comfort</th>\n",
              "      <th>inflight_entertainment</th>\n",
              "      <th>on_board_service</th>\n",
              "      <th>checkin_service</th>\n",
              "      <th>cleanliness</th>\n",
              "      <th>departure_delay_in_minutes</th>\n",
              "      <th>arrival_delay_in_minutes</th>\n",
              "      <th>satisfaction</th>\n",
              "    </tr>\n",
              "  </thead>\n",
              "  <tbody>\n",
              "    <tr>\n",
              "      <th>0</th>\n",
              "      <td>1</td>\n",
              "      <td>0</td>\n",
              "      <td>13.0</td>\n",
              "      <td>1</td>\n",
              "      <td>Eco Plus</td>\n",
              "      <td>460</td>\n",
              "      <td>3</td>\n",
              "      <td>3</td>\n",
              "      <td>1</td>\n",
              "      <td>5</td>\n",
              "      <td>3</td>\n",
              "      <td>5</td>\n",
              "      <td>5</td>\n",
              "      <td>4</td>\n",
              "      <td>4</td>\n",
              "      <td>5</td>\n",
              "      <td>25</td>\n",
              "      <td>18.0</td>\n",
              "      <td>0</td>\n",
              "    </tr>\n",
              "    <tr>\n",
              "      <th>1</th>\n",
              "      <td>1</td>\n",
              "      <td>1</td>\n",
              "      <td>25.0</td>\n",
              "      <td>0</td>\n",
              "      <td>Business</td>\n",
              "      <td>235</td>\n",
              "      <td>3</td>\n",
              "      <td>3</td>\n",
              "      <td>3</td>\n",
              "      <td>1</td>\n",
              "      <td>3</td>\n",
              "      <td>1</td>\n",
              "      <td>1</td>\n",
              "      <td>1</td>\n",
              "      <td>1</td>\n",
              "      <td>1</td>\n",
              "      <td>1</td>\n",
              "      <td>6.0</td>\n",
              "      <td>0</td>\n",
              "    </tr>\n",
              "    <tr>\n",
              "      <th>2</th>\n",
              "      <td>0</td>\n",
              "      <td>0</td>\n",
              "      <td>26.0</td>\n",
              "      <td>0</td>\n",
              "      <td>Business</td>\n",
              "      <td>1142</td>\n",
              "      <td>2</td>\n",
              "      <td>2</td>\n",
              "      <td>2</td>\n",
              "      <td>5</td>\n",
              "      <td>5</td>\n",
              "      <td>5</td>\n",
              "      <td>5</td>\n",
              "      <td>4</td>\n",
              "      <td>4</td>\n",
              "      <td>5</td>\n",
              "      <td>0</td>\n",
              "      <td>0.0</td>\n",
              "      <td>1</td>\n",
              "    </tr>\n",
              "    <tr>\n",
              "      <th>3</th>\n",
              "      <td>0</td>\n",
              "      <td>0</td>\n",
              "      <td>25.0</td>\n",
              "      <td>0</td>\n",
              "      <td>Business</td>\n",
              "      <td>562</td>\n",
              "      <td>2</td>\n",
              "      <td>5</td>\n",
              "      <td>5</td>\n",
              "      <td>2</td>\n",
              "      <td>2</td>\n",
              "      <td>2</td>\n",
              "      <td>2</td>\n",
              "      <td>2</td>\n",
              "      <td>1</td>\n",
              "      <td>2</td>\n",
              "      <td>11</td>\n",
              "      <td>9.0</td>\n",
              "      <td>0</td>\n",
              "    </tr>\n",
              "    <tr>\n",
              "      <th>4</th>\n",
              "      <td>1</td>\n",
              "      <td>0</td>\n",
              "      <td>61.0</td>\n",
              "      <td>0</td>\n",
              "      <td>Business</td>\n",
              "      <td>214</td>\n",
              "      <td>3</td>\n",
              "      <td>3</td>\n",
              "      <td>3</td>\n",
              "      <td>4</td>\n",
              "      <td>5</td>\n",
              "      <td>5</td>\n",
              "      <td>3</td>\n",
              "      <td>3</td>\n",
              "      <td>3</td>\n",
              "      <td>3</td>\n",
              "      <td>0</td>\n",
              "      <td>0.0</td>\n",
              "      <td>1</td>\n",
              "    </tr>\n",
              "    <tr>\n",
              "      <th>...</th>\n",
              "      <td>...</td>\n",
              "      <td>...</td>\n",
              "      <td>...</td>\n",
              "      <td>...</td>\n",
              "      <td>...</td>\n",
              "      <td>...</td>\n",
              "      <td>...</td>\n",
              "      <td>...</td>\n",
              "      <td>...</td>\n",
              "      <td>...</td>\n",
              "      <td>...</td>\n",
              "      <td>...</td>\n",
              "      <td>...</td>\n",
              "      <td>...</td>\n",
              "      <td>...</td>\n",
              "      <td>...</td>\n",
              "      <td>...</td>\n",
              "      <td>...</td>\n",
              "      <td>...</td>\n",
              "    </tr>\n",
              "    <tr>\n",
              "      <th>103899</th>\n",
              "      <td>0</td>\n",
              "      <td>1</td>\n",
              "      <td>23.0</td>\n",
              "      <td>0</td>\n",
              "      <td>Eco</td>\n",
              "      <td>192</td>\n",
              "      <td>2</td>\n",
              "      <td>2</td>\n",
              "      <td>3</td>\n",
              "      <td>2</td>\n",
              "      <td>2</td>\n",
              "      <td>2</td>\n",
              "      <td>2</td>\n",
              "      <td>3</td>\n",
              "      <td>2</td>\n",
              "      <td>2</td>\n",
              "      <td>3</td>\n",
              "      <td>0.0</td>\n",
              "      <td>0</td>\n",
              "    </tr>\n",
              "    <tr>\n",
              "      <th>103900</th>\n",
              "      <td>1</td>\n",
              "      <td>0</td>\n",
              "      <td>49.0</td>\n",
              "      <td>0</td>\n",
              "      <td>Business</td>\n",
              "      <td>2347</td>\n",
              "      <td>4</td>\n",
              "      <td>4</td>\n",
              "      <td>4</td>\n",
              "      <td>2</td>\n",
              "      <td>4</td>\n",
              "      <td>5</td>\n",
              "      <td>5</td>\n",
              "      <td>5</td>\n",
              "      <td>5</td>\n",
              "      <td>4</td>\n",
              "      <td>0</td>\n",
              "      <td>0.0</td>\n",
              "      <td>1</td>\n",
              "    </tr>\n",
              "    <tr>\n",
              "      <th>103901</th>\n",
              "      <td>1</td>\n",
              "      <td>1</td>\n",
              "      <td>30.0</td>\n",
              "      <td>0</td>\n",
              "      <td>Business</td>\n",
              "      <td>1995</td>\n",
              "      <td>1</td>\n",
              "      <td>1</td>\n",
              "      <td>3</td>\n",
              "      <td>4</td>\n",
              "      <td>1</td>\n",
              "      <td>5</td>\n",
              "      <td>4</td>\n",
              "      <td>3</td>\n",
              "      <td>5</td>\n",
              "      <td>4</td>\n",
              "      <td>7</td>\n",
              "      <td>14.0</td>\n",
              "      <td>0</td>\n",
              "    </tr>\n",
              "    <tr>\n",
              "      <th>103902</th>\n",
              "      <td>0</td>\n",
              "      <td>1</td>\n",
              "      <td>22.0</td>\n",
              "      <td>0</td>\n",
              "      <td>Eco</td>\n",
              "      <td>1000</td>\n",
              "      <td>1</td>\n",
              "      <td>1</td>\n",
              "      <td>5</td>\n",
              "      <td>1</td>\n",
              "      <td>1</td>\n",
              "      <td>1</td>\n",
              "      <td>1</td>\n",
              "      <td>4</td>\n",
              "      <td>5</td>\n",
              "      <td>1</td>\n",
              "      <td>0</td>\n",
              "      <td>0.0</td>\n",
              "      <td>0</td>\n",
              "    </tr>\n",
              "    <tr>\n",
              "      <th>103903</th>\n",
              "      <td>1</td>\n",
              "      <td>0</td>\n",
              "      <td>27.0</td>\n",
              "      <td>0</td>\n",
              "      <td>Business</td>\n",
              "      <td>1723</td>\n",
              "      <td>1</td>\n",
              "      <td>3</td>\n",
              "      <td>3</td>\n",
              "      <td>1</td>\n",
              "      <td>1</td>\n",
              "      <td>1</td>\n",
              "      <td>1</td>\n",
              "      <td>1</td>\n",
              "      <td>4</td>\n",
              "      <td>1</td>\n",
              "      <td>0</td>\n",
              "      <td>0.0</td>\n",
              "      <td>0</td>\n",
              "    </tr>\n",
              "  </tbody>\n",
              "</table>\n",
              "<p>103904 rows × 19 columns</p>\n",
              "</div>"
            ],
            "text/plain": [
              "        gender  customer_type   age  type_of_travel     class  \\\n",
              "0            1              0  13.0               1  Eco Plus   \n",
              "1            1              1  25.0               0  Business   \n",
              "2            0              0  26.0               0  Business   \n",
              "3            0              0  25.0               0  Business   \n",
              "4            1              0  61.0               0  Business   \n",
              "...        ...            ...   ...             ...       ...   \n",
              "103899       0              1  23.0               0       Eco   \n",
              "103900       1              0  49.0               0  Business   \n",
              "103901       1              1  30.0               0  Business   \n",
              "103902       0              1  22.0               0       Eco   \n",
              "103903       1              0  27.0               0  Business   \n",
              "\n",
              "        flight_distance  inflight_wifi_service  ease_of_online_booking  \\\n",
              "0                   460                      3                       3   \n",
              "1                   235                      3                       3   \n",
              "2                  1142                      2                       2   \n",
              "3                   562                      2                       5   \n",
              "4                   214                      3                       3   \n",
              "...                 ...                    ...                     ...   \n",
              "103899              192                      2                       2   \n",
              "103900             2347                      4                       4   \n",
              "103901             1995                      1                       1   \n",
              "103902             1000                      1                       1   \n",
              "103903             1723                      1                       3   \n",
              "\n",
              "        gate_location  food_and_drink  online_boarding  seat_comfort  \\\n",
              "0                   1               5                3             5   \n",
              "1                   3               1                3             1   \n",
              "2                   2               5                5             5   \n",
              "3                   5               2                2             2   \n",
              "4                   3               4                5             5   \n",
              "...               ...             ...              ...           ...   \n",
              "103899              3               2                2             2   \n",
              "103900              4               2                4             5   \n",
              "103901              3               4                1             5   \n",
              "103902              5               1                1             1   \n",
              "103903              3               1                1             1   \n",
              "\n",
              "        inflight_entertainment  on_board_service  checkin_service  \\\n",
              "0                            5                 4                4   \n",
              "1                            1                 1                1   \n",
              "2                            5                 4                4   \n",
              "3                            2                 2                1   \n",
              "4                            3                 3                3   \n",
              "...                        ...               ...              ...   \n",
              "103899                       2                 3                2   \n",
              "103900                       5                 5                5   \n",
              "103901                       4                 3                5   \n",
              "103902                       1                 4                5   \n",
              "103903                       1                 1                4   \n",
              "\n",
              "        cleanliness  departure_delay_in_minutes  arrival_delay_in_minutes  \\\n",
              "0                 5                          25                      18.0   \n",
              "1                 1                           1                       6.0   \n",
              "2                 5                           0                       0.0   \n",
              "3                 2                          11                       9.0   \n",
              "4                 3                           0                       0.0   \n",
              "...             ...                         ...                       ...   \n",
              "103899            2                           3                       0.0   \n",
              "103900            4                           0                       0.0   \n",
              "103901            4                           7                      14.0   \n",
              "103902            1                           0                       0.0   \n",
              "103903            1                           0                       0.0   \n",
              "\n",
              "        satisfaction  \n",
              "0                  0  \n",
              "1                  0  \n",
              "2                  1  \n",
              "3                  0  \n",
              "4                  1  \n",
              "...              ...  \n",
              "103899             0  \n",
              "103900             1  \n",
              "103901             0  \n",
              "103902             0  \n",
              "103903             0  \n",
              "\n",
              "[103904 rows x 19 columns]"
            ]
          },
          "execution_count": 21,
          "metadata": {},
          "output_type": "execute_result"
        }
      ],
      "source": [
        "# Para las variables 'gender', 'customer_type', 'type_of_travel' y 'satisfaction'\n",
        "categorical_columns = ['gender','customer_type', 'type_of_travel', 'satisfaction']\n",
        "for i in range(len(categorical_columns)):\n",
        "  df[categorical_columns[i]] = LabelEncoder(\n",
        "  ).fit_transform(df[categorical_columns[i]])\n",
        "df"
      ]
    },
    {
      "cell_type": "code",
      "execution_count": 22,
      "metadata": {
        "colab": {
          "base_uri": "https://localhost:8080/",
          "height": 424
        },
        "execution": {
          "iopub.execute_input": "2022-05-15T18:42:27.274148Z",
          "iopub.status.busy": "2022-05-15T18:42:27.273421Z",
          "iopub.status.idle": "2022-05-15T18:42:27.490794Z",
          "shell.execute_reply": "2022-05-15T18:42:27.490056Z"
        },
        "id": "Xc8xdqSHuXzF",
        "outputId": "b590cbf3-c4b4-4943-b637-9d1971c3a04a",
        "papermill": {
          "duration": 0.296662,
          "end_time": "2022-05-15T18:42:27.490923",
          "exception": false,
          "start_time": "2022-05-15T18:42:27.194261",
          "status": "completed"
        },
        "tags": []
      },
      "outputs": [
        {
          "data": {
            "text/html": [
              "<div>\n",
              "<style scoped>\n",
              "    .dataframe tbody tr th:only-of-type {\n",
              "        vertical-align: middle;\n",
              "    }\n",
              "\n",
              "    .dataframe tbody tr th {\n",
              "        vertical-align: top;\n",
              "    }\n",
              "\n",
              "    .dataframe thead th {\n",
              "        text-align: right;\n",
              "    }\n",
              "</style>\n",
              "<table border=\"1\" class=\"dataframe\">\n",
              "  <thead>\n",
              "    <tr style=\"text-align: right;\">\n",
              "      <th></th>\n",
              "      <th>Business</th>\n",
              "      <th>Eco</th>\n",
              "      <th>Eco Plus</th>\n",
              "    </tr>\n",
              "  </thead>\n",
              "  <tbody>\n",
              "    <tr>\n",
              "      <th>0</th>\n",
              "      <td>0</td>\n",
              "      <td>0</td>\n",
              "      <td>1</td>\n",
              "    </tr>\n",
              "    <tr>\n",
              "      <th>1</th>\n",
              "      <td>1</td>\n",
              "      <td>0</td>\n",
              "      <td>0</td>\n",
              "    </tr>\n",
              "    <tr>\n",
              "      <th>2</th>\n",
              "      <td>1</td>\n",
              "      <td>0</td>\n",
              "      <td>0</td>\n",
              "    </tr>\n",
              "    <tr>\n",
              "      <th>3</th>\n",
              "      <td>1</td>\n",
              "      <td>0</td>\n",
              "      <td>0</td>\n",
              "    </tr>\n",
              "    <tr>\n",
              "      <th>4</th>\n",
              "      <td>1</td>\n",
              "      <td>0</td>\n",
              "      <td>0</td>\n",
              "    </tr>\n",
              "    <tr>\n",
              "      <th>...</th>\n",
              "      <td>...</td>\n",
              "      <td>...</td>\n",
              "      <td>...</td>\n",
              "    </tr>\n",
              "    <tr>\n",
              "      <th>103899</th>\n",
              "      <td>0</td>\n",
              "      <td>1</td>\n",
              "      <td>0</td>\n",
              "    </tr>\n",
              "    <tr>\n",
              "      <th>103900</th>\n",
              "      <td>1</td>\n",
              "      <td>0</td>\n",
              "      <td>0</td>\n",
              "    </tr>\n",
              "    <tr>\n",
              "      <th>103901</th>\n",
              "      <td>1</td>\n",
              "      <td>0</td>\n",
              "      <td>0</td>\n",
              "    </tr>\n",
              "    <tr>\n",
              "      <th>103902</th>\n",
              "      <td>0</td>\n",
              "      <td>1</td>\n",
              "      <td>0</td>\n",
              "    </tr>\n",
              "    <tr>\n",
              "      <th>103903</th>\n",
              "      <td>1</td>\n",
              "      <td>0</td>\n",
              "      <td>0</td>\n",
              "    </tr>\n",
              "  </tbody>\n",
              "</table>\n",
              "<p>103904 rows × 3 columns</p>\n",
              "</div>"
            ],
            "text/plain": [
              "        Business  Eco  Eco Plus\n",
              "0              0    0         1\n",
              "1              1    0         0\n",
              "2              1    0         0\n",
              "3              1    0         0\n",
              "4              1    0         0\n",
              "...          ...  ...       ...\n",
              "103899         0    1         0\n",
              "103900         1    0         0\n",
              "103901         1    0         0\n",
              "103902         0    1         0\n",
              "103903         1    0         0\n",
              "\n",
              "[103904 rows x 3 columns]"
            ]
          },
          "execution_count": 22,
          "metadata": {},
          "output_type": "execute_result"
        }
      ],
      "source": [
        "# Para la variable \"class\"\n",
        "ohe = OneHotEncoder()\n",
        "\n",
        "# como resultado, obtendremos n cantidad de nuevas columnas como tantas categorias existan en workclass\n",
        "resultados_ohe = ohe.fit_transform(df[[\"class\"]])\n",
        "\n",
        "# creamos un nuevo dataframe con los datos obtenidos\n",
        "resultados_ohe = pd.DataFrame(resultados_ohe.toarray(), columns=list(ohe.categories_)[0], dtype=np.int8)\n",
        "resultados_ohe"
      ]
    },
    {
      "cell_type": "code",
      "execution_count": 23,
      "metadata": {
        "colab": {
          "base_uri": "https://localhost:8080/",
          "height": 505
        },
        "execution": {
          "iopub.execute_input": "2022-05-15T18:42:27.647689Z",
          "iopub.status.busy": "2022-05-15T18:42:27.646944Z",
          "iopub.status.idle": "2022-05-15T18:42:27.690050Z",
          "shell.execute_reply": "2022-05-15T18:42:27.689226Z"
        },
        "id": "pOZVpg89uXzF",
        "outputId": "b13ea0ba-ed2a-4f38-cfc1-a0e004a681ba",
        "papermill": {
          "duration": 0.124546,
          "end_time": "2022-05-15T18:42:27.690198",
          "exception": false,
          "start_time": "2022-05-15T18:42:27.565652",
          "status": "completed"
        },
        "tags": []
      },
      "outputs": [
        {
          "data": {
            "text/html": [
              "<div>\n",
              "<style scoped>\n",
              "    .dataframe tbody tr th:only-of-type {\n",
              "        vertical-align: middle;\n",
              "    }\n",
              "\n",
              "    .dataframe tbody tr th {\n",
              "        vertical-align: top;\n",
              "    }\n",
              "\n",
              "    .dataframe thead th {\n",
              "        text-align: right;\n",
              "    }\n",
              "</style>\n",
              "<table border=\"1\" class=\"dataframe\">\n",
              "  <thead>\n",
              "    <tr style=\"text-align: right;\">\n",
              "      <th></th>\n",
              "      <th>gender</th>\n",
              "      <th>customer_type</th>\n",
              "      <th>age</th>\n",
              "      <th>type_of_travel</th>\n",
              "      <th>flight_distance</th>\n",
              "      <th>inflight_wifi_service</th>\n",
              "      <th>ease_of_online_booking</th>\n",
              "      <th>gate_location</th>\n",
              "      <th>food_and_drink</th>\n",
              "      <th>online_boarding</th>\n",
              "      <th>...</th>\n",
              "      <th>inflight_entertainment</th>\n",
              "      <th>on_board_service</th>\n",
              "      <th>checkin_service</th>\n",
              "      <th>cleanliness</th>\n",
              "      <th>departure_delay_in_minutes</th>\n",
              "      <th>arrival_delay_in_minutes</th>\n",
              "      <th>satisfaction</th>\n",
              "      <th>Business</th>\n",
              "      <th>Eco</th>\n",
              "      <th>Eco Plus</th>\n",
              "    </tr>\n",
              "  </thead>\n",
              "  <tbody>\n",
              "    <tr>\n",
              "      <th>0</th>\n",
              "      <td>1</td>\n",
              "      <td>0</td>\n",
              "      <td>13.0</td>\n",
              "      <td>1</td>\n",
              "      <td>460</td>\n",
              "      <td>3</td>\n",
              "      <td>3</td>\n",
              "      <td>1</td>\n",
              "      <td>5</td>\n",
              "      <td>3</td>\n",
              "      <td>...</td>\n",
              "      <td>5</td>\n",
              "      <td>4</td>\n",
              "      <td>4</td>\n",
              "      <td>5</td>\n",
              "      <td>25</td>\n",
              "      <td>18.0</td>\n",
              "      <td>0</td>\n",
              "      <td>0</td>\n",
              "      <td>0</td>\n",
              "      <td>1</td>\n",
              "    </tr>\n",
              "    <tr>\n",
              "      <th>1</th>\n",
              "      <td>1</td>\n",
              "      <td>1</td>\n",
              "      <td>25.0</td>\n",
              "      <td>0</td>\n",
              "      <td>235</td>\n",
              "      <td>3</td>\n",
              "      <td>3</td>\n",
              "      <td>3</td>\n",
              "      <td>1</td>\n",
              "      <td>3</td>\n",
              "      <td>...</td>\n",
              "      <td>1</td>\n",
              "      <td>1</td>\n",
              "      <td>1</td>\n",
              "      <td>1</td>\n",
              "      <td>1</td>\n",
              "      <td>6.0</td>\n",
              "      <td>0</td>\n",
              "      <td>1</td>\n",
              "      <td>0</td>\n",
              "      <td>0</td>\n",
              "    </tr>\n",
              "    <tr>\n",
              "      <th>2</th>\n",
              "      <td>0</td>\n",
              "      <td>0</td>\n",
              "      <td>26.0</td>\n",
              "      <td>0</td>\n",
              "      <td>1142</td>\n",
              "      <td>2</td>\n",
              "      <td>2</td>\n",
              "      <td>2</td>\n",
              "      <td>5</td>\n",
              "      <td>5</td>\n",
              "      <td>...</td>\n",
              "      <td>5</td>\n",
              "      <td>4</td>\n",
              "      <td>4</td>\n",
              "      <td>5</td>\n",
              "      <td>0</td>\n",
              "      <td>0.0</td>\n",
              "      <td>1</td>\n",
              "      <td>1</td>\n",
              "      <td>0</td>\n",
              "      <td>0</td>\n",
              "    </tr>\n",
              "    <tr>\n",
              "      <th>3</th>\n",
              "      <td>0</td>\n",
              "      <td>0</td>\n",
              "      <td>25.0</td>\n",
              "      <td>0</td>\n",
              "      <td>562</td>\n",
              "      <td>2</td>\n",
              "      <td>5</td>\n",
              "      <td>5</td>\n",
              "      <td>2</td>\n",
              "      <td>2</td>\n",
              "      <td>...</td>\n",
              "      <td>2</td>\n",
              "      <td>2</td>\n",
              "      <td>1</td>\n",
              "      <td>2</td>\n",
              "      <td>11</td>\n",
              "      <td>9.0</td>\n",
              "      <td>0</td>\n",
              "      <td>1</td>\n",
              "      <td>0</td>\n",
              "      <td>0</td>\n",
              "    </tr>\n",
              "    <tr>\n",
              "      <th>4</th>\n",
              "      <td>1</td>\n",
              "      <td>0</td>\n",
              "      <td>61.0</td>\n",
              "      <td>0</td>\n",
              "      <td>214</td>\n",
              "      <td>3</td>\n",
              "      <td>3</td>\n",
              "      <td>3</td>\n",
              "      <td>4</td>\n",
              "      <td>5</td>\n",
              "      <td>...</td>\n",
              "      <td>3</td>\n",
              "      <td>3</td>\n",
              "      <td>3</td>\n",
              "      <td>3</td>\n",
              "      <td>0</td>\n",
              "      <td>0.0</td>\n",
              "      <td>1</td>\n",
              "      <td>1</td>\n",
              "      <td>0</td>\n",
              "      <td>0</td>\n",
              "    </tr>\n",
              "    <tr>\n",
              "      <th>...</th>\n",
              "      <td>...</td>\n",
              "      <td>...</td>\n",
              "      <td>...</td>\n",
              "      <td>...</td>\n",
              "      <td>...</td>\n",
              "      <td>...</td>\n",
              "      <td>...</td>\n",
              "      <td>...</td>\n",
              "      <td>...</td>\n",
              "      <td>...</td>\n",
              "      <td>...</td>\n",
              "      <td>...</td>\n",
              "      <td>...</td>\n",
              "      <td>...</td>\n",
              "      <td>...</td>\n",
              "      <td>...</td>\n",
              "      <td>...</td>\n",
              "      <td>...</td>\n",
              "      <td>...</td>\n",
              "      <td>...</td>\n",
              "      <td>...</td>\n",
              "    </tr>\n",
              "    <tr>\n",
              "      <th>103899</th>\n",
              "      <td>0</td>\n",
              "      <td>1</td>\n",
              "      <td>23.0</td>\n",
              "      <td>0</td>\n",
              "      <td>192</td>\n",
              "      <td>2</td>\n",
              "      <td>2</td>\n",
              "      <td>3</td>\n",
              "      <td>2</td>\n",
              "      <td>2</td>\n",
              "      <td>...</td>\n",
              "      <td>2</td>\n",
              "      <td>3</td>\n",
              "      <td>2</td>\n",
              "      <td>2</td>\n",
              "      <td>3</td>\n",
              "      <td>0.0</td>\n",
              "      <td>0</td>\n",
              "      <td>0</td>\n",
              "      <td>1</td>\n",
              "      <td>0</td>\n",
              "    </tr>\n",
              "    <tr>\n",
              "      <th>103900</th>\n",
              "      <td>1</td>\n",
              "      <td>0</td>\n",
              "      <td>49.0</td>\n",
              "      <td>0</td>\n",
              "      <td>2347</td>\n",
              "      <td>4</td>\n",
              "      <td>4</td>\n",
              "      <td>4</td>\n",
              "      <td>2</td>\n",
              "      <td>4</td>\n",
              "      <td>...</td>\n",
              "      <td>5</td>\n",
              "      <td>5</td>\n",
              "      <td>5</td>\n",
              "      <td>4</td>\n",
              "      <td>0</td>\n",
              "      <td>0.0</td>\n",
              "      <td>1</td>\n",
              "      <td>1</td>\n",
              "      <td>0</td>\n",
              "      <td>0</td>\n",
              "    </tr>\n",
              "    <tr>\n",
              "      <th>103901</th>\n",
              "      <td>1</td>\n",
              "      <td>1</td>\n",
              "      <td>30.0</td>\n",
              "      <td>0</td>\n",
              "      <td>1995</td>\n",
              "      <td>1</td>\n",
              "      <td>1</td>\n",
              "      <td>3</td>\n",
              "      <td>4</td>\n",
              "      <td>1</td>\n",
              "      <td>...</td>\n",
              "      <td>4</td>\n",
              "      <td>3</td>\n",
              "      <td>5</td>\n",
              "      <td>4</td>\n",
              "      <td>7</td>\n",
              "      <td>14.0</td>\n",
              "      <td>0</td>\n",
              "      <td>1</td>\n",
              "      <td>0</td>\n",
              "      <td>0</td>\n",
              "    </tr>\n",
              "    <tr>\n",
              "      <th>103902</th>\n",
              "      <td>0</td>\n",
              "      <td>1</td>\n",
              "      <td>22.0</td>\n",
              "      <td>0</td>\n",
              "      <td>1000</td>\n",
              "      <td>1</td>\n",
              "      <td>1</td>\n",
              "      <td>5</td>\n",
              "      <td>1</td>\n",
              "      <td>1</td>\n",
              "      <td>...</td>\n",
              "      <td>1</td>\n",
              "      <td>4</td>\n",
              "      <td>5</td>\n",
              "      <td>1</td>\n",
              "      <td>0</td>\n",
              "      <td>0.0</td>\n",
              "      <td>0</td>\n",
              "      <td>0</td>\n",
              "      <td>1</td>\n",
              "      <td>0</td>\n",
              "    </tr>\n",
              "    <tr>\n",
              "      <th>103903</th>\n",
              "      <td>1</td>\n",
              "      <td>0</td>\n",
              "      <td>27.0</td>\n",
              "      <td>0</td>\n",
              "      <td>1723</td>\n",
              "      <td>1</td>\n",
              "      <td>3</td>\n",
              "      <td>3</td>\n",
              "      <td>1</td>\n",
              "      <td>1</td>\n",
              "      <td>...</td>\n",
              "      <td>1</td>\n",
              "      <td>1</td>\n",
              "      <td>4</td>\n",
              "      <td>1</td>\n",
              "      <td>0</td>\n",
              "      <td>0.0</td>\n",
              "      <td>0</td>\n",
              "      <td>1</td>\n",
              "      <td>0</td>\n",
              "      <td>0</td>\n",
              "    </tr>\n",
              "  </tbody>\n",
              "</table>\n",
              "<p>103904 rows × 21 columns</p>\n",
              "</div>"
            ],
            "text/plain": [
              "        gender  customer_type   age  type_of_travel  flight_distance  \\\n",
              "0            1              0  13.0               1              460   \n",
              "1            1              1  25.0               0              235   \n",
              "2            0              0  26.0               0             1142   \n",
              "3            0              0  25.0               0              562   \n",
              "4            1              0  61.0               0              214   \n",
              "...        ...            ...   ...             ...              ...   \n",
              "103899       0              1  23.0               0              192   \n",
              "103900       1              0  49.0               0             2347   \n",
              "103901       1              1  30.0               0             1995   \n",
              "103902       0              1  22.0               0             1000   \n",
              "103903       1              0  27.0               0             1723   \n",
              "\n",
              "        inflight_wifi_service  ease_of_online_booking  gate_location  \\\n",
              "0                           3                       3              1   \n",
              "1                           3                       3              3   \n",
              "2                           2                       2              2   \n",
              "3                           2                       5              5   \n",
              "4                           3                       3              3   \n",
              "...                       ...                     ...            ...   \n",
              "103899                      2                       2              3   \n",
              "103900                      4                       4              4   \n",
              "103901                      1                       1              3   \n",
              "103902                      1                       1              5   \n",
              "103903                      1                       3              3   \n",
              "\n",
              "        food_and_drink  online_boarding  ...  inflight_entertainment  \\\n",
              "0                    5                3  ...                       5   \n",
              "1                    1                3  ...                       1   \n",
              "2                    5                5  ...                       5   \n",
              "3                    2                2  ...                       2   \n",
              "4                    4                5  ...                       3   \n",
              "...                ...              ...  ...                     ...   \n",
              "103899               2                2  ...                       2   \n",
              "103900               2                4  ...                       5   \n",
              "103901               4                1  ...                       4   \n",
              "103902               1                1  ...                       1   \n",
              "103903               1                1  ...                       1   \n",
              "\n",
              "        on_board_service  checkin_service  cleanliness  \\\n",
              "0                      4                4            5   \n",
              "1                      1                1            1   \n",
              "2                      4                4            5   \n",
              "3                      2                1            2   \n",
              "4                      3                3            3   \n",
              "...                  ...              ...          ...   \n",
              "103899                 3                2            2   \n",
              "103900                 5                5            4   \n",
              "103901                 3                5            4   \n",
              "103902                 4                5            1   \n",
              "103903                 1                4            1   \n",
              "\n",
              "        departure_delay_in_minutes  arrival_delay_in_minutes  satisfaction  \\\n",
              "0                               25                      18.0             0   \n",
              "1                                1                       6.0             0   \n",
              "2                                0                       0.0             1   \n",
              "3                               11                       9.0             0   \n",
              "4                                0                       0.0             1   \n",
              "...                            ...                       ...           ...   \n",
              "103899                           3                       0.0             0   \n",
              "103900                           0                       0.0             1   \n",
              "103901                           7                      14.0             0   \n",
              "103902                           0                       0.0             0   \n",
              "103903                           0                       0.0             0   \n",
              "\n",
              "        Business  Eco  Eco Plus  \n",
              "0              0    0         1  \n",
              "1              1    0         0  \n",
              "2              1    0         0  \n",
              "3              1    0         0  \n",
              "4              1    0         0  \n",
              "...          ...  ...       ...  \n",
              "103899         0    1         0  \n",
              "103900         1    0         0  \n",
              "103901         1    0         0  \n",
              "103902         0    1         0  \n",
              "103903         1    0         0  \n",
              "\n",
              "[103904 rows x 21 columns]"
            ]
          },
          "execution_count": 23,
          "metadata": {},
          "output_type": "execute_result"
        }
      ],
      "source": [
        "df = df.join(resultados_ohe)\n",
        "df.drop(\"class\", axis=1, inplace=True)\n",
        "df"
      ]
    },
    {
      "cell_type": "code",
      "execution_count": 24,
      "metadata": {
        "colab": {
          "base_uri": "https://localhost:8080/",
          "height": 686
        },
        "id": "Bpumf1y3Yq1e",
        "outputId": "b94311e3-a887-4ac0-9a1e-655450f5dc8a"
      },
      "outputs": [
        {
          "data": {
            "image/png": "[encoded data removed]",
            "text/plain": [
              "<Figure size 792x648 with 2 Axes>"
            ]
          },
          "metadata": {},
          "output_type": "display_data"
        }
      ],
      "source": [
        "#Correlacion\n",
        "corr= df.corr()\n",
        "corr\n",
        "\n",
        "sns.set_theme(style=\"white\")\n",
        "\n",
        "# Set up the matplotlib figure\n",
        "f, ax = plt.subplots(figsize=(11, 9))\n",
        "\n",
        "# Draw the heatmap with the mask and correct aspect ratio\n",
        "sns.heatmap(corr, cmap=\"YlGnBu\", vmax=.3, center=0, square=True, linewidths=.5, cbar_kws={\"shrink\": .5})\n",
        "plt.show()"
      ]
    },
    {
      "cell_type": "code",
      "execution_count": 25,
      "metadata": {
        "colab": {
          "base_uri": "https://localhost:8080/"
        },
        "id": "pSESNuPVYum2",
        "outputId": "51ee66e9-ef3f-4a20-8555-00b3c5da701c"
      },
      "outputs": [
        {
          "name": "stdout",
          "output_type": "stream",
          "text": [
            "satisfaction                  1.000000\n",
            "Business                      0.503848\n",
            "online_boarding               0.503557\n",
            "inflight_entertainment        0.398059\n",
            "seat_comfort                  0.349459\n",
            "on_board_service              0.322383\n",
            "cleanliness                   0.305198\n",
            "flight_distance               0.298780\n",
            "inflight_wifi_service         0.284245\n",
            "checkin_service               0.236174\n",
            "food_and_drink                0.209936\n",
            "ease_of_online_booking        0.171705\n",
            "age                           0.154706\n",
            "gender                        0.012211\n",
            "gate_location                 0.000682\n",
            "departure_delay_in_minutes   -0.050494\n",
            "arrival_delay_in_minutes     -0.057435\n",
            "Eco Plus                     -0.105363\n",
            "customer_type                -0.187638\n",
            "type_of_travel               -0.449000\n",
            "Eco                          -0.451118\n",
            "Name: satisfaction, dtype: float64\n"
          ]
        }
      ],
      "source": [
        "corrSat = corr.sort_values(by=[\"satisfaction\"], ascending=False)\n",
        "corrList1 = corrSat[\"satisfaction\"]\n",
        "print(corrList1)\n",
        "corrList = corrList1.index"
      ]
    },
    {
      "cell_type": "code",
      "execution_count": 26,
      "metadata": {
        "colab": {
          "base_uri": "https://localhost:8080/",
          "height": 1000
        },
        "id": "XfVCXPrPZEx1",
        "outputId": "41ca87a0-4fc2-4949-fe66-ce94eed416f9"
      },
      "outputs": [
        {
          "name": "stdout",
          "output_type": "stream",
          "text": [
            "inflight_wifi_service\n"
          ]
        },
        {
          "data": {
            "image/png": "[encoded data removed]",
            "text/plain": [
              "<Figure size 432x288 with 1 Axes>"
            ]
          },
          "metadata": {},
          "output_type": "display_data"
        },
        {
          "name": "stdout",
          "output_type": "stream",
          "text": [
            "ease_of_online_booking\n"
          ]
        },
        {
          "data": {
            "image/png": "[encoded data removed]",
            "text/plain": [
              "<Figure size 432x288 with 1 Axes>"
            ]
          },
          "metadata": {},
          "output_type": "display_data"
        },
        {
          "name": "stdout",
          "output_type": "stream",
          "text": [
            "gate_location\n"
          ]
        },
        {
          "data": {
            "image/png": "[encoded data removed]",
            "text/plain": [
              "<Figure size 432x288 with 1 Axes>"
            ]
          },
          "metadata": {},
          "output_type": "display_data"
        },
        {
          "name": "stdout",
          "output_type": "stream",
          "text": [
            "food_and_drink\n"
          ]
        },
        {
          "data": {
            "image/png": "[encoded data removed]",
            "text/plain": [
              "<Figure size 432x288 with 1 Axes>"
            ]
          },
          "metadata": {},
          "output_type": "display_data"
        },
        {
          "name": "stdout",
          "output_type": "stream",
          "text": [
            "online_boarding\n"
          ]
        },
        {
          "data": {
            "image/png": "[encoded data removed]",
            "text/plain": [
              "<Figure size 432x288 with 1 Axes>"
            ]
          },
          "metadata": {},
          "output_type": "display_data"
        },
        {
          "name": "stdout",
          "output_type": "stream",
          "text": [
            "seat_comfort\n"
          ]
        },
        {
          "data": {
            "image/png": "[encoded data removed]",
            "text/plain": [
              "<Figure size 432x288 with 1 Axes>"
            ]
          },
          "metadata": {},
          "output_type": "display_data"
        },
        {
          "name": "stdout",
          "output_type": "stream",
          "text": [
            "inflight_entertainment\n"
          ]
        },
        {
          "data": {
            "image/png": "[encoded data removed]",
            "text/plain": [
              "<Figure size 432x288 with 1 Axes>"
            ]
          },
          "metadata": {},
          "output_type": "display_data"
        },
        {
          "name": "stdout",
          "output_type": "stream",
          "text": [
            "on_board_service\n"
          ]
        },
        {
          "data": {
            "image/png": "[encoded data removed]",
            "text/plain": [
              "<Figure size 432x288 with 1 Axes>"
            ]
          },
          "metadata": {},
          "output_type": "display_data"
        },
        {
          "name": "stdout",
          "output_type": "stream",
          "text": [
            "checkin_service\n"
          ]
        },
        {
          "data": {
            "image/png": "[encoded data removed]",
            "text/plain": [
              "<Figure size 432x288 with 1 Axes>"
            ]
          },
          "metadata": {},
          "output_type": "display_data"
        },
        {
          "name": "stdout",
          "output_type": "stream",
          "text": [
            "cleanliness\n"
          ]
        },
        {
          "data": {
            "image/png": "[encoded data removed]",
            "text/plain": [
              "<Figure size 432x288 with 1 Axes>"
            ]
          },
          "metadata": {},
          "output_type": "display_data"
        }
      ],
      "source": [
        "# Histograma de las categorías de la encuesta.\n",
        "lista = corr.index\n",
        "listaEncuesta = []\n",
        "for i in range(10):\n",
        "    listaEncuesta.append(lista[i+5])\n",
        "listaEncuesta\n",
        "for i in range(10):\n",
        "    print(listaEncuesta[i])\n",
        "    plt.hist(df[listaEncuesta[i]], bins=5)\n",
        "    plt.show()"
      ]
    },
    {
      "cell_type": "markdown",
      "metadata": {
        "id": "rLd0g7MDuXzK",
        "papermill": {
          "duration": 0.082371,
          "end_time": "2022-05-15T18:44:40.400552",
          "exception": false,
          "start_time": "2022-05-15T18:44:40.318181",
          "status": "completed"
        },
        "tags": []
      },
      "source": [
        "# Modelos de Machine Learning: Clasificación"
      ]
    },
    {
      "cell_type": "code",
      "execution_count": 27,
      "metadata": {
        "execution": {
          "iopub.execute_input": "2022-05-15T18:44:40.570474Z",
          "iopub.status.busy": "2022-05-15T18:44:40.569687Z",
          "iopub.status.idle": "2022-05-15T18:44:40.611404Z",
          "shell.execute_reply": "2022-05-15T18:44:40.612000Z"
        },
        "id": "AwWnVE3fuXzK",
        "papermill": {
          "duration": 0.128332,
          "end_time": "2022-05-15T18:44:40.612164",
          "exception": false,
          "start_time": "2022-05-15T18:44:40.483832",
          "status": "completed"
        },
        "tags": []
      },
      "outputs": [],
      "source": [
        "# dividimos el conjunto de datos\n",
        "from sklearn.preprocessing import MinMaxScaler\n",
        "X = df.loc[:, df.columns != 'satisfaction']\n",
        "y = df['satisfaction']\n",
        "\n",
        "X_train, X_test, y_train, y_test = train_test_split(X, y, random_state=0)\n",
        "\n",
        "# Estandarizamos los datos\n",
        "sc = MinMaxScaler()\n",
        "sc.fit(X_train)\n",
        "X_train_std = sc.transform(X_train)\n",
        "X_test_std = sc.transform(X_test)"
      ]
    },
    {
      "cell_type": "code",
      "execution_count": 28,
      "metadata": {
        "colab": {
          "base_uri": "https://localhost:8080/",
          "height": 0
        },
        "id": "Qf-m4rOlJSWt",
        "outputId": "91ee611a-4171-4fc8-eac3-be0e11b65356"
      },
      "outputs": [
        {
          "name": "stdout",
          "output_type": "stream",
          "text": [
            "Modelo KNN: k = 2\n",
            "    Accuracy: 91.88\n",
            "    Precision: 96.42\n",
            "    Recall: 84.38\n",
            "    F1-Score: 90.00\n"
          ]
        },
        {
          "data": {
            "image/png": "[encoded data removed]",
            "text/plain": [
              "<Figure size 360x360 with 1 Axes>"
            ]
          },
          "metadata": {},
          "output_type": "display_data"
        },
        {
          "name": "stdout",
          "output_type": "stream",
          "text": [
            "\n",
            "Modelo KNN: k = 3\n",
            "    Accuracy: 93.03\n",
            "    Precision: 93.69\n",
            "    Recall: 89.96\n",
            "    F1-Score: 91.79\n"
          ]
        },
        {
          "data": {
            "image/png": "[encoded data removed]",
            "text/plain": [
              "<Figure size 360x360 with 1 Axes>"
            ]
          },
          "metadata": {},
          "output_type": "display_data"
        },
        {
          "name": "stdout",
          "output_type": "stream",
          "text": [
            "\n",
            "Modelo KNN: k = 4\n",
            "    Accuracy: 92.68\n",
            "    Precision: 96.02\n",
            "    Recall: 86.67\n",
            "    F1-Score: 91.11\n"
          ]
        },
        {
          "data": {
            "image/png": "[encoded data removed]",
            "text/plain": [
              "<Figure size 360x360 with 1 Axes>"
            ]
          },
          "metadata": {},
          "output_type": "display_data"
        },
        {
          "name": "stdout",
          "output_type": "stream",
          "text": [
            "\n",
            "Modelo KNN: k = 5\n",
            "    Accuracy: 93.13\n",
            "    Precision: 94.15\n",
            "    Recall: 89.71\n",
            "    F1-Score: 91.87\n"
          ]
        },
        {
          "data": {
            "image/png": "[encoded data removed]",
            "text/plain": [
              "<Figure size 360x360 with 1 Axes>"
            ]
          },
          "metadata": {},
          "output_type": "display_data"
        },
        {
          "name": "stdout",
          "output_type": "stream",
          "text": [
            "\n",
            "Modelo KNN: k = 6\n",
            "    Accuracy: 92.83\n",
            "    Precision: 95.60\n",
            "    Recall: 87.46\n",
            "    F1-Score: 91.35\n"
          ]
        },
        {
          "data": {
            "image/png": "[encoded data removed]",
            "text/plain": [
              "<Figure size 360x360 with 1 Axes>"
            ]
          },
          "metadata": {},
          "output_type": "display_data"
        },
        {
          "name": "stdout",
          "output_type": "stream",
          "text": [
            "\n",
            "Modelo KNN: k = 7\n",
            "    Accuracy: 93.12\n",
            "    Precision: 94.32\n",
            "    Recall: 89.49\n",
            "    F1-Score: 91.84\n"
          ]
        },
        {
          "data": {
            "image/png": "[encoded data removed]",
            "text/plain": [
              "<Figure size 360x360 with 1 Axes>"
            ]
          },
          "metadata": {},
          "output_type": "display_data"
        },
        {
          "name": "stdout",
          "output_type": "stream",
          "text": [
            "\n"
          ]
        }
      ],
      "source": [
        "# Correr varios K\n",
        "# algunos vecinos de ejemplo\n",
        "k = [2, 3, 4, 5, 6, 7]\n",
        "\n",
        "# iteramos\n",
        "for vecino in k:\n",
        "  # creamos el modelo para el k seleccionado\n",
        "  clf = KNeighborsClassifier(n_neighbors = vecino)\n",
        "  \n",
        "  # lo ajustamos\n",
        "  clf.fit(X_train_std, y_train)\n",
        "\n",
        "  # hacemos las predicciones\n",
        "  y_pred = clf.predict(X_test_std)\n",
        "\n",
        "  # lo evaluamos y guardamos cada valor\n",
        "  accuracy = accuracy_score(y_test, y_pred)\n",
        "  precision = precision_score(y_test, y_pred)\n",
        "  recall = recall_score(y_test, y_pred)\n",
        "  f1 = f1_score(y_test, y_pred)\n",
        "\n",
        "  print(f\"Modelo KNN: k = {vecino}\")\n",
        "  print(f\"    Accuracy: {accuracy*100:.2f}\")\n",
        "  print(f\"    Precision: {precision*100:.2f}\")\n",
        "  print(f\"    Recall: {recall*100:.2f}\")\n",
        "  print(f\"    F1-Score: {f1*100:.2f}\")\n",
        "  conf_matrix = confusion_matrix(y_true = y_test, y_pred = y_pred)\n",
        "  # graficamos\n",
        "  fig, ax = plt.subplots(figsize=(5, 5))\n",
        "  ax.matshow(conf_matrix, cmap=plt.cm.Oranges, alpha=0.3)\n",
        "  for i in range(conf_matrix.shape[0]):\n",
        "      for j in range(conf_matrix.shape[1]):\n",
        "          ax.text(x=j, y=i,s=conf_matrix[i, j], va='center', ha='center', size='xx-large')\n",
        "  \n",
        "  plt.xlabel('Valor Predicción', fontsize=18)\n",
        "  plt.ylabel('Valor Actual', fontsize=18)\n",
        "  plt.title('Confusion Matrix', fontsize=18)\n",
        "  plt.show()\n",
        "  print(\"\")"
      ]
    },
    {
      "cell_type": "markdown",
      "metadata": {
        "id": "fyvUtZEAUMjY"
      },
      "source": [
        "###Árbol de decisión"
      ]
    },
    {
      "cell_type": "code",
      "execution_count": 29,
      "metadata": {
        "execution": {
          "iopub.execute_input": "2022-05-15T18:44:40.787198Z",
          "iopub.status.busy": "2022-05-15T18:44:40.786428Z",
          "iopub.status.idle": "2022-05-15T18:44:40.792177Z",
          "shell.execute_reply": "2022-05-15T18:44:40.792712Z"
        },
        "id": "48TCbN25uXzL",
        "papermill": {
          "duration": 0.097844,
          "end_time": "2022-05-15T18:44:40.792866",
          "exception": false,
          "start_time": "2022-05-15T18:44:40.695022",
          "status": "completed"
        },
        "tags": []
      },
      "outputs": [],
      "source": [
        "tree = DecisionTreeClassifier(random_state=0)\n",
        "tree.fit(X_train_std, y_train)\n",
        "# hacemos las predicciones\n",
        "tree_y_pred = tree.predict(X_test_std)\n",
        "\n",
        "# lo evaluamos y guardamos cada valor\n",
        "treeAccuracy = accuracy_score(y_test, tree_y_pred)\n",
        "treePrecision = precision_score(y_test, tree_y_pred)\n",
        "treeRecall = recall_score(y_test, tree_y_pred)\n",
        "treef1 = f1_score(y_test, tree_y_pred)"
      ]
    },
    {
      "cell_type": "markdown",
      "metadata": {
        "id": "n7S28Jv9UanU"
      },
      "source": [
        "### Random Forest"
      ]
    },
    {
      "cell_type": "code",
      "execution_count": 30,
      "metadata": {
        "id": "M7ayTgAVUcTW"
      },
      "outputs": [],
      "source": [
        "forest = RandomForestClassifier(random_state=0)\n",
        "forest.fit(X_train_std, y_train)\n",
        "# hacemos las predicciones\n",
        "forest_y_pred = forest.predict(X_test_std)\n",
        "\n",
        "# lo evaluamos y guardamos cada valor\n",
        "forest_accuracy = accuracy_score(y_test, forest_y_pred)\n",
        "forest_precision = precision_score(y_test, forest_y_pred)\n",
        "forest_recall = recall_score(y_test, forest_y_pred)\n",
        "forest_f1 = f1_score(y_test, forest_y_pred)"
      ]
    },
    {
      "cell_type": "markdown",
      "metadata": {
        "id": "uFnKC6oCuXzT",
        "papermill": {
          "duration": 0.109127,
          "end_time": "2022-05-15T18:53:42.130107",
          "exception": false,
          "start_time": "2022-05-15T18:53:42.020980",
          "status": "completed"
        },
        "tags": []
      },
      "source": [
        "# Resultados:\n",
        "Podemos comparar varios modelos y observar sus resultados"
      ]
    },
    {
      "cell_type": "code",
      "execution_count": 31,
      "metadata": {
        "execution": {
          "iopub.execute_input": "2022-05-15T18:53:42.362474Z",
          "iopub.status.busy": "2022-05-15T18:53:42.361636Z",
          "iopub.status.idle": "2022-05-15T18:53:42.679530Z",
          "shell.execute_reply": "2022-05-15T18:53:42.678756Z"
        },
        "id": "nx_xRVKJuXzT",
        "papermill": {
          "duration": 0.441017,
          "end_time": "2022-05-15T18:53:42.679661",
          "exception": false,
          "start_time": "2022-05-15T18:53:42.238644",
          "status": "completed"
        },
        "tags": []
      },
      "outputs": [
        {
          "name": "stdout",
          "output_type": "stream",
          "text": [
            "Modelo KNN con 5 vecinos\n",
            "    Accuracy: 93.13\n",
            "    Precision: 94.15\n",
            "    Recall: 89.71\n",
            "    F1-Score: 91.87\n"
          ]
        },
        {
          "data": {
            "image/png": "[encoded data removed]",
            "text/plain": [
              "<Figure size 360x360 with 1 Axes>"
            ]
          },
          "metadata": {},
          "output_type": "display_data"
        },
        {
          "name": "stdout",
          "output_type": "stream",
          "text": [
            "\n",
            "Modelo Arbol de Decisión\n",
            "    Accuracy: 93.55\n",
            "    Precision: 91.99\n",
            "    Recall: 93.21\n",
            "    F1-Score: 92.60\n"
          ]
        },
        {
          "data": {
            "image/png": "[encoded data removed]",
            "text/plain": [
              "<Figure size 360x360 with 1 Axes>"
            ]
          },
          "metadata": {},
          "output_type": "display_data"
        },
        {
          "name": "stdout",
          "output_type": "stream",
          "text": [
            "Modelo Random Forest\n",
            "    Accuracy: 95.57\n",
            "    Precision: 95.94\n",
            "    Recall: 93.73\n",
            "    F1-Score: 94.82\n"
          ]
        },
        {
          "data": {
            "image/png": "[encoded data removed]",
            "text/plain": [
              "<Figure size 360x360 with 1 Axes>"
            ]
          },
          "metadata": {},
          "output_type": "display_data"
        },
        {
          "name": "stdout",
          "output_type": "stream",
          "text": [
            "\n"
          ]
        }
      ],
      "source": [
        "#KNN\n",
        "# El mejor KNN fue con 5 vecinos\n",
        "knn5 = KNeighborsClassifier(n_neighbors = 5)\n",
        "knn5.fit(X_train_std, y_train)\n",
        "# hacemos las predicciones\n",
        "knn_y_pred = knn5.predict(X_test_std)\n",
        "\n",
        "# lo evaluamos y guardamos cada valor\n",
        "knn_accuracy = accuracy_score(y_test, knn_y_pred)\n",
        "knn_precision = precision_score(y_test, knn_y_pred)\n",
        "knn_recall = recall_score(y_test, knn_y_pred)\n",
        "knn_f1 = f1_score(y_test, knn_y_pred)\n",
        "\n",
        "\n",
        "print(f\"Modelo KNN con 5 vecinos\")\n",
        "print(f\"    Accuracy: {knn_accuracy*100:.2f}\")\n",
        "print(f\"    Precision: {knn_precision*100:.2f}\")\n",
        "print(f\"    Recall: {knn_recall*100:.2f}\")\n",
        "print(f\"    F1-Score: {knn_f1*100:.2f}\")\n",
        "tree_conf_matrix = confusion_matrix(y_true = y_test, y_pred = tree_y_pred)\n",
        "# graficamos\n",
        "fig, ax = plt.subplots(figsize=(5, 5))\n",
        "ax.matshow(tree_conf_matrix, cmap=plt.cm.Oranges, alpha=0.3)\n",
        "for i in range(tree_conf_matrix.shape[0]):\n",
        "    for j in range(tree_conf_matrix.shape[1]):\n",
        "        ax.text(x=j, y=i,s=tree_conf_matrix[i, j], va='center', ha='center', size='xx-large')\n",
        " \n",
        "plt.xlabel('Valor Predicción', fontsize=18)\n",
        "plt.ylabel('Valor Actual', fontsize=18)\n",
        "plt.title('Confusion Matrix', fontsize=18)\n",
        "plt.show()\n",
        "print(\"\")\n",
        "\n",
        "#ARBOL DE DECISION\n",
        "print(f\"Modelo Arbol de Decisión\")\n",
        "print(f\"    Accuracy: {treeAccuracy*100:.2f}\")\n",
        "print(f\"    Precision: {treePrecision*100:.2f}\")\n",
        "print(f\"    Recall: {treeRecall*100:.2f}\")\n",
        "print(f\"    F1-Score: {treef1*100:.2f}\")\n",
        "tree_conf_matrix = confusion_matrix(y_true = y_test, y_pred = tree_y_pred)\n",
        "# graficamos\n",
        "fig, ax = plt.subplots(figsize=(5, 5))\n",
        "ax.matshow(tree_conf_matrix, cmap=plt.cm.Oranges, alpha=0.3)\n",
        "for i in range(tree_conf_matrix.shape[0]):\n",
        "    for j in range(tree_conf_matrix.shape[1]):\n",
        "        ax.text(x=j, y=i,s=tree_conf_matrix[i, j], va='center', ha='center', size='xx-large')\n",
        " \n",
        "plt.xlabel('Valor Predicción', fontsize=18)\n",
        "plt.ylabel('Valor Actual', fontsize=18)\n",
        "plt.title('Confusion Matrix', fontsize=18)\n",
        "plt.show()\n",
        "\n",
        "#RANDOM FOREST\n",
        "print(f\"Modelo Random Forest\")\n",
        "print(f\"    Accuracy: {forest_accuracy*100:.2f}\")\n",
        "print(f\"    Precision: {forest_precision*100:.2f}\")\n",
        "print(f\"    Recall: {forest_recall*100:.2f}\")\n",
        "print(f\"    F1-Score: {forest_f1*100:.2f}\")\n",
        "forest_conf_matrix = confusion_matrix(y_true = y_test, y_pred = forest_y_pred)\n",
        "# graficamos\n",
        "fig, ax = plt.subplots(figsize=(5, 5))\n",
        "ax.matshow(forest_conf_matrix, cmap=plt.cm.Oranges, alpha=0.3)\n",
        "for i in range(forest_conf_matrix.shape[0]):\n",
        "    for j in range(forest_conf_matrix.shape[1]):\n",
        "        ax.text(x=j, y=i,s=forest_conf_matrix[i, j], va='center', ha='center', size='xx-large')\n",
        " \n",
        "plt.xlabel('Valor Predicción', fontsize=18)\n",
        "plt.ylabel('Valor Actual', fontsize=18)\n",
        "plt.title('Confusion Matrix', fontsize=18)\n",
        "plt.show()\n",
        "print(\"\")"
      ]
    },
    {
      "cell_type": "markdown",
      "metadata": {
        "id": "E0JW0LZkuXzT",
        "papermill": {
          "duration": 0.110109,
          "end_time": "2022-05-15T18:53:42.899696",
          "exception": false,
          "start_time": "2022-05-15T18:53:42.789587",
          "status": "completed"
        },
        "tags": []
      },
      "source": [
        "# Conclusion\n",
        "Observamos que\n",
        "- Vimos que la cantidad de outilers eran 200 (0,002%) con lo cual nos pareció que no era significante sacarlos.\n",
        "- Observamos que el Random Forest es el modelo que mejor F1 score tiene, aunque los otros no se quedan detrás. Además tiene el mejor Accuracy\n",
        "- La precision de KNN es mejor que el arbol de decisión, pero el arbol de decisión tiene un F1 score de aprox 1% mas alto.\n",
        "\n",
        "#Próximos pasos:\n",
        "- Podríamos analizar de droppear la columna de gate_location ya que tiene una correlación con satisfaction de 0,0006, bastante baja."
      ]
    }
  ],
  "metadata": {
    "colab": {
      "collapsed_sections": [
        "mRwsDSszvO_t",
        "ofn8EfVc_udw",
        "zNgLrVv9uXy-",
        "sDhgh950uXzF",
        "rLd0g7MDuXzK",
        "fyvUtZEAUMjY",
        "n7S28Jv9UanU",
        "uFnKC6oCuXzT"
      ],
      "name": "Hackaton_ML_UdeSA_Alumnos.ipynb",
      "provenance": []
    },
    "interpreter": {
      "hash": "aee8b7b246df8f9039afb4144a1f6fd8d2ca17a180786b69acc140d282b71a49"
    },
    "kernelspec": {
      "display_name": "Python 3.10.4 64-bit",
      "language": "python",
      "name": "python3"
    },
    "language_info": {
      "codemirror_mode": {
        "name": "ipython",
        "version": 3
      },
      "file_extension": ".py",
      "mimetype": "text/x-python",
      "name": "python",
      "nbconvert_exporter": "python",
      "pygments_lexer": "ipython3",
      "version": "3.9.6 (v3.9.6:db3ff76da1, Jun 28 2021, 11:14:58) \n[Clang 12.0.5 (clang-1205.0.22.9)]"
    },
    "papermill": {
      "duration": 711.231652,
      "end_time": "2022-05-15T18:53:43.338810",
      "environment_variables": {},
      "exception": null,
      "input_path": "__notebook__.ipynb",
      "output_path": "__notebook__.ipynb",
      "parameters": {},
      "start_time": "2022-05-15T18:41:52.107158",
      "version": "2.1.0"
    }
  },
  "nbformat": 4,
  "nbformat_minor": 0
}
